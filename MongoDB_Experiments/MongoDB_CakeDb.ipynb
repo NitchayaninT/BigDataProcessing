{
  "cells": [
    {
      "cell_type": "markdown",
      "metadata": {
        "id": "iNUUgo-jqj43"
      },
      "source": [
        "Nitchayanin Thamkunanon 6580081"
      ]
    },
    {
      "cell_type": "markdown",
      "metadata": {
        "id": "jAGlgo0KfumA"
      },
      "source": [
        "Install PyMongo"
      ]
    },
    {
      "cell_type": "code",
      "execution_count": null,
      "metadata": {
        "colab": {
          "base_uri": "https://localhost:8080/"
        },
        "id": "es6JZ9RPevNF",
        "outputId": "f3cea6ac-d4b8-4e92-b086-4deab2f11e0e"
      },
      "outputs": [
        {
          "name": "stdout",
          "output_type": "stream",
          "text": [
            "34.139.31.6Requirement already satisfied: pymongo==3.11 in /usr/local/lib/python3.11/dist-packages (from pymongo[srv]==3.11) (3.11.0)\n",
            "Requirement already satisfied: dnspython<2.0.0,>=1.16.0 in /usr/local/lib/python3.11/dist-packages (from pymongo[srv]==3.11) (1.16.0)\n"
          ]
        }
      ],
      "source": [
        "!curl ipecho.net/plain\n",
        "! python -m pip install \"pymongo[srv]\"==3.11"
      ]
    },
    {
      "cell_type": "code",
      "execution_count": null,
      "metadata": {
        "colab": {
          "base_uri": "https://localhost:8080/"
        },
        "id": "-YUsBRNefojg",
        "outputId": "55aa73a3-b574-4be2-de51-526583c6aca4"
      },
      "outputs": [
        {
          "name": "stdout",
          "output_type": "stream",
          "text": [
            "Requirement already satisfied: pymongo[srv,tls] in /usr/local/lib/python3.11/dist-packages (3.11.0)\n",
            "Requirement already satisfied: dnspython<2.0.0,>=1.16.0 in /usr/local/lib/python3.11/dist-packages (from pymongo[srv,tls]) (1.16.0)\n",
            "Requirement already satisfied: dnspython in /usr/local/lib/python3.11/dist-packages (1.16.0)\n"
          ]
        }
      ],
      "source": [
        "! pip install pymongo[srv,tls]\n",
        "! pip install dnspython"
      ]
    },
    {
      "cell_type": "markdown",
      "metadata": {
        "id": "6WB2WDO3mSUH"
      },
      "source": [
        "Import PyMongo and establish (connect to server)"
      ]
    },
    {
      "cell_type": "code",
      "execution_count": null,
      "metadata": {
        "colab": {
          "base_uri": "https://localhost:8080/"
        },
        "id": "lFh9gpYcmZm_",
        "outputId": "bf71a596-aa45-4c4a-bae1-6ea73278cbaa"
      },
      "outputs": [
        {
          "name": "stdout",
          "output_type": "stream",
          "text": [
            "Pinged your deployment. You successfully connected to MongoDB!\n"
          ]
        }
      ],
      "source": [
        "from pymongo.mongo_client import MongoClient\n",
        "uri = \"mongodb+srv://nichayanin:<password>@workshop-bakery.zvzpniv.mongodb.net/?retryWrites=true&w=majority&appName=Workshop-Bakery\"\n",
        "client = MongoClient(uri)\n",
        "\n",
        "#test successful ping\n",
        "try:\n",
        "  client.admin.command('ping')\n",
        "  print(\"Pinged your deployment. You successfully connected to MongoDB!\")\n",
        "\n",
        "except Exception as e:\n",
        "  print(e)"
      ]
    },
    {
      "cell_type": "markdown",
      "metadata": {
        "id": "g7bpedyRndZH"
      },
      "source": [
        "Create Database named \"Bakery\" and collection named \"cakes\""
      ]
    },
    {
      "cell_type": "code",
      "execution_count": null,
      "metadata": {
        "colab": {
          "base_uri": "https://localhost:8080/"
        },
        "id": "3yK67W-HnNZv",
        "outputId": "0254896b-8f38-4335-f482-14273318bf84"
      },
      "outputs": [
        {
          "data": {
            "text/plain": [
              "Collection(Database(MongoClient(host=['ac-lnin2ms-shard-00-02.zvzpniv.mongodb.net:27017', 'ac-lnin2ms-shard-00-00.zvzpniv.mongodb.net:27017', 'ac-lnin2ms-shard-00-01.zvzpniv.mongodb.net:27017'], document_class=dict, tz_aware=False, connect=True, retrywrites=True, w='majority', appname='Workshop-Bakery', authsource='admin', replicaset='atlas-fbqqzu-shard-0', ssl=True), 'Bakery'), 'cakes')"
            ]
          },
          "execution_count": 45,
          "metadata": {},
          "output_type": "execute_result"
        }
      ],
      "source": [
        "SampleDb = client.Bakery\n",
        "SampleDb.create_collection('cakes')"
      ]
    },
    {
      "cell_type": "code",
      "execution_count": null,
      "metadata": {
        "colab": {
          "base_uri": "https://localhost:8080/"
        },
        "id": "oxZa0XWqn_FW",
        "outputId": "d9328b0f-931c-4631-e3ca-d895f495d93c"
      },
      "outputs": [
        {
          "data": {
            "text/plain": [
              "['Bakery', 'sample_mflix', 'admin', 'local']"
            ]
          },
          "execution_count": 46,
          "metadata": {},
          "output_type": "execute_result"
        }
      ],
      "source": [
        "#show database names and collection names to confirm creation\n",
        "client.list_database_names()"
      ]
    },
    {
      "cell_type": "code",
      "execution_count": null,
      "metadata": {
        "colab": {
          "base_uri": "https://localhost:8080/"
        },
        "id": "skdH2eAPn6Rg",
        "outputId": "e95a751a-60b4-4d66-fa93-0fc3804d1220"
      },
      "outputs": [
        {
          "data": {
            "text/plain": [
              "[{'name': 'cakes',\n",
              "  'type': 'collection',\n",
              "  'options': {},\n",
              "  'info': {'readOnly': False,\n",
              "   'uuid': UUID('1a883344-d57e-4c01-97b8-b099a87da2cf')},\n",
              "  'idIndex': {'v': 2, 'key': {'_id': 1}, 'name': '_id_'}}]"
            ]
          },
          "execution_count": 47,
          "metadata": {},
          "output_type": "execute_result"
        }
      ],
      "source": [
        "list(SampleDb.list_collections())"
      ]
    },
    {
      "cell_type": "markdown",
      "metadata": {
        "id": "VMHxneiFoZVW"
      },
      "source": [
        "Add data (document) to cakes collection in Bakery database"
      ]
    },
    {
      "cell_type": "code",
      "execution_count": null,
      "metadata": {
        "id": "uXtVlF5ipqCR"
      },
      "outputs": [],
      "source": [
        "cakes = SampleDb.cakes"
      ]
    },
    {
      "cell_type": "code",
      "execution_count": null,
      "metadata": {
        "id": "L1x-yUhZofA-"
      },
      "outputs": [],
      "source": [
        "data = {\n",
        "  \"name\": \"Chocolate Cake\",\n",
        "  \"shortDescription\": \"Chocolate cake is a cake flavored with melted chocolate, cocoa powder, or sometimes both.\",\n",
        "  \"description\": \"Chocolate cake is made with chocolate; it can be made with other ingredients, as well. These ingredients include fudge, vanilla creme, and other sweeteners. The history of chocolate cake goes back to 1764, when Dr. James Baker discovered how to make chocolate by grinding cocoa beans between two massive circular millstones.\",\n",
        "  \"image\": \"https://addapinch.com/wp-content/uploads/2020/04/chocolate-cake-DSC_1768.jpg\",\n",
        "  \"ingredients\": [\n",
        "    \"flour\",\n",
        "    \"sugar\",\n",
        "    \"cocoa powder\"\n",
        "  ],\n",
        "  \"recipe\": \"Preheat your oven to the specified temperature and prepare a greased cake pan. Mix the dry and wet ingredients separately, then combine and pour the batter into the pan. Bake for the recommended time, let it cool, and optionally frost or decorate as desired.\",\n",
        "  \"stock\": 25\n",
        "}\n",
        "\n",
        "insert_result = cakes.insert_one(data)"
      ]
    },
    {
      "cell_type": "code",
      "execution_count": null,
      "metadata": {
        "colab": {
          "base_uri": "https://localhost:8080/"
        },
        "id": "njkJwIR_p4HX",
        "outputId": "0d789d02-8091-46f6-eb49-a5069b3c4be3"
      },
      "outputs": [
        {
          "data": {
            "text/plain": [
              "True"
            ]
          },
          "execution_count": 50,
          "metadata": {},
          "output_type": "execute_result"
        }
      ],
      "source": [
        "#confirm cake insertion\n",
        "insert_result.acknowledged"
      ]
    },
    {
      "cell_type": "code",
      "execution_count": null,
      "metadata": {
        "colab": {
          "base_uri": "https://localhost:8080/"
        },
        "id": "-LOW4O36p9Ce",
        "outputId": "2df2925a-a8ff-476b-dbc3-387bbd95117f"
      },
      "outputs": [
        {
          "data": {
            "text/plain": [
              "ObjectId('6819d38b8f2f142d1c6c7f0b')"
            ]
          },
          "execution_count": 51,
          "metadata": {},
          "output_type": "execute_result"
        }
      ],
      "source": [
        "#show cake ID\n",
        "insert_result.inserted_id"
      ]
    },
    {
      "cell_type": "code",
      "execution_count": null,
      "metadata": {
        "id": "_x6SsRyPwpbi"
      },
      "outputs": [],
      "source": [
        "data = {\n",
        "  \"name\": \"Cheese Cake\",\n",
        "  \"shortDescription\": \"Cheesecake is a sweet dessert consisting of one or more layers. The main, and thickest, layer consists of a mixture of a soft, fresh cheese (typically cottage cheese, cream cheese or ricotta), eggs, and sugar. \",\n",
        "  \"description\": \"Cheesecake is a sweet dessert consisting of one or more layers. The main, and thickest, layer consists of a mixture of a soft, fresh cheese (typically cottage cheese, cream cheese or ricotta), eggs, and sugar. If there is a bottom layer, it most often consists of a crust or base made from crushed cookies (or digestive biscuits), graham crackers, pastry, or sometimes sponge cake.[1] Cheesecake may be baked or unbaked (and is usually refrigerated).\",\n",
        "  \"image\":\"https://sallysbakingaddiction.com/wp-content/uploads/2018/05/perfect-cheesecake-recipe.jpg\",\n",
        "  \"ingredients\": [ \"graham cracker crumbs\", \"sugar\", \"eggs\", \"butter\", \"sour cream\", \"cream cheese\", \"vanilla extract\" ],\n",
        "  \"recipe\": \"Mix graham cracker crumbs and melted butter for the crust. Press into a pan. Beat cream cheese, sugar, and vanilla. Fold in whipped cream. Pour over the crust. Refrigerate until set, remove from pan, and serve chilled with desired toppings.\",\n",
        "  \"stock\": 40\n",
        "}\n",
        "\n",
        "insert_result = cakes.insert_one(data)"
      ]
    },
    {
      "cell_type": "code",
      "execution_count": null,
      "metadata": {
        "colab": {
          "base_uri": "https://localhost:8080/"
        },
        "id": "-TK1S-grxN7h",
        "outputId": "221586e7-1b01-4a8d-a19f-fa8aaabea42c"
      },
      "outputs": [
        {
          "data": {
            "text/plain": [
              "True"
            ]
          },
          "execution_count": 53,
          "metadata": {},
          "output_type": "execute_result"
        }
      ],
      "source": [
        "#confirm cake insertion\n",
        "insert_result.acknowledged"
      ]
    },
    {
      "cell_type": "code",
      "execution_count": null,
      "metadata": {
        "colab": {
          "base_uri": "https://localhost:8080/"
        },
        "id": "AyeMt6eUxQqB",
        "outputId": "09ede24c-2f49-4b82-9f5e-663ad1d9249e"
      },
      "outputs": [
        {
          "data": {
            "text/plain": [
              "ObjectId('6819d3908f2f142d1c6c7f0c')"
            ]
          },
          "execution_count": 54,
          "metadata": {},
          "output_type": "execute_result"
        }
      ],
      "source": [
        "#show cake ID\n",
        "insert_result.inserted_id"
      ]
    },
    {
      "cell_type": "markdown",
      "metadata": {
        "id": "OkCPak2uxXDR"
      },
      "source": [
        "Add second collection to Bakery database to store comments that people can leave on each cake"
      ]
    },
    {
      "cell_type": "code",
      "execution_count": null,
      "metadata": {
        "colab": {
          "base_uri": "https://localhost:8080/"
        },
        "id": "WDsdOLj0xeLp",
        "outputId": "11aedb5c-59c5-41dd-812a-1b196341f2ac"
      },
      "outputs": [
        {
          "data": {
            "text/plain": [
              "['cakes', 'comments']"
            ]
          },
          "execution_count": 55,
          "metadata": {},
          "output_type": "execute_result"
        }
      ],
      "source": [
        "SampleDb.create_collection('comments')\n",
        "comments = SampleDb.comments\n",
        "SampleDb.list_collection_names()"
      ]
    },
    {
      "cell_type": "markdown",
      "metadata": {
        "id": "zt5I_QVzyA7C"
      },
      "source": [
        "Add new comment (as document) in comments collection"
      ]
    },
    {
      "cell_type": "code",
      "execution_count": null,
      "metadata": {
        "id": "Ic174TYhyFoR"
      },
      "outputs": [],
      "source": [
        "from bson import ObjectId\n",
        "from datetime import datetime\n",
        "\n",
        "comment = {\n",
        "\"cakeId\": ObjectId(\"681983198f2f142d1c6c7f04\"),\n",
        "\"name\": \"Peter Quill\",\n",
        "\"text\": \"This recipe was super easy to follow and the result was delicious!\",\n",
        "\"date\":  datetime.fromtimestamp(1685750400)\n",
        "}\n",
        "\n",
        "insert_result = comments.insert_one(comment)"
      ]
    },
    {
      "cell_type": "code",
      "execution_count": null,
      "metadata": {
        "colab": {
          "base_uri": "https://localhost:8080/"
        },
        "id": "XqNmIg0B0jdJ",
        "outputId": "1d9cdbee-cdd0-47c3-a264-f22d1f8996a2"
      },
      "outputs": [
        {
          "data": {
            "text/plain": [
              "ObjectId('6819d39d8f2f142d1c6c7f0d')"
            ]
          },
          "execution_count": 57,
          "metadata": {},
          "output_type": "execute_result"
        }
      ],
      "source": [
        "#show comment id\n",
        "insert_result.inserted_id"
      ]
    },
    {
      "cell_type": "markdown",
      "metadata": {
        "id": "3SN8WllfFIje"
      },
      "source": [
        "Add another comment for John Smith"
      ]
    },
    {
      "cell_type": "code",
      "execution_count": null,
      "metadata": {
        "id": "GW-BJPayE9B-"
      },
      "outputs": [],
      "source": [
        "comment = {\n",
        "\"cakeId\": ObjectId(\"681983198f2f142d1c6c7f04\"),\n",
        "\"name\": \"John Smith\",\n",
        "\"text\": \"Amazing recipe! I would definitely try it again!\",\n",
        "\"date\":  datetime.fromtimestamp(1685750400000)\n",
        "}\n",
        "\n",
        "insert_result = comments.insert_one(comment)"
      ]
    },
    {
      "cell_type": "markdown",
      "metadata": {
        "id": "c3pNnMhGFOMG"
      },
      "source": [
        "Change CakeID to match with the autogenerated one from MongoDB"
      ]
    },
    {
      "cell_type": "code",
      "execution_count": null,
      "metadata": {
        "id": "jhWAEOF-5YDg"
      },
      "outputs": [],
      "source": [
        "update_result = comments.update_one(\n",
        "  {'name' : 'Peter Quill'},\n",
        "  {'$set' : { 'cakeId' :  ObjectId('6819d38b8f2f142d1c6c7f0b') }} )"
      ]
    },
    {
      "cell_type": "code",
      "execution_count": null,
      "metadata": {
        "id": "EsMV7E7aEeeG"
      },
      "outputs": [],
      "source": [
        "update_result = comments.update_one(\n",
        "  {'name' : 'John Smith'},\n",
        "  {'$set' : { 'cakeId' :  ObjectId('6819d38b8f2f142d1c6c7f0b') }} )"
      ]
    },
    {
      "cell_type": "markdown",
      "metadata": {
        "id": "zU5YHsgnPzd9"
      },
      "source": [
        "Add red velvet cakes!!\n"
      ]
    },
    {
      "cell_type": "code",
      "execution_count": null,
      "metadata": {
        "id": "kxJbuqCcP2Jd"
      },
      "outputs": [],
      "source": [
        "data = {\n",
        "  \"name\": \"Red velvet cake\",\n",
        "  \"shortDescription\": \"This strawberry cake completely blew me away. After years of mediocre from-scratch strawberry cakes, my expectations were pretty low. It was time to taste test my efforts. Biting into the first pastel-pink forkful was the moment of truth… \",\n",
        "  \"description\": \"I find it challenging to pack real strawberry flavor into cake without the crutch of fake strawberry flavoring. My goal was to create a strawberry layer cake made entirely from real strawberries. We’re talking strawberries inside the cake and in the frosting as well. With the help of freeze-dried strawberries, I tackled strawberry frosting. I’ll get to that below.\",\n",
        "  \"image\":\"https://sallysbakingaddiction.com/wp-content/uploads/2017/12/homemade-strawberry-cake.jpg\",\n",
        "  \"ingredients\": [ \"Strawberry Puree\", \"Cake\", \"eggs\", \"butter\", \"sour cream\", \"etc\" ],\n",
        "  \"recipe\": \"something.\",\n",
        "  \"stock\": 40\n",
        "}\n",
        "\n",
        "insert_result = cakes.insert_one(data)"
      ]
    },
    {
      "cell_type": "code",
      "execution_count": null,
      "metadata": {
        "colab": {
          "base_uri": "https://localhost:8080/"
        },
        "id": "E_bwGm7LR3lU",
        "outputId": "857c836a-b75d-401e-bf61-01a1d597bf4a"
      },
      "outputs": [
        {
          "data": {
            "text/plain": [
              "ObjectId('6819ed698f2f142d1c6c7f0e')"
            ]
          },
          "execution_count": 62,
          "metadata": {},
          "output_type": "execute_result"
        }
      ],
      "source": [
        "insert_result.inserted_id"
      ]
    },
    {
      "cell_type": "code",
      "execution_count": null,
      "metadata": {
        "id": "SWegjDWuR67E"
      },
      "outputs": [],
      "source": []
    }
  ],
  "metadata": {
    "colab": {
      "provenance": []
    },
    "kernelspec": {
      "display_name": "Python 3",
      "name": "python3"
    },
    "language_info": {
      "name": "python"
    }
  },
  "nbformat": 4,
  "nbformat_minor": 0
}
