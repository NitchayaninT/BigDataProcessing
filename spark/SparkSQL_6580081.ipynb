{
  "cells": [
    {
      "cell_type": "code",
      "execution_count": null,
      "metadata": {
        "colab": {
          "base_uri": "https://localhost:8080/"
        },
        "id": "zX8_ZZvtbd4B",
        "outputId": "32d170c8-3c6c-41d6-9a04-7f77ea64920a"
      },
      "outputs": [
        {
          "name": "stdout",
          "output_type": "stream",
          "text": [
            "Requirement already satisfied: pyspark in /usr/local/lib/python3.11/dist-packages (3.5.1)\n",
            "Requirement already satisfied: py4j==0.10.9.7 in /usr/local/lib/python3.11/dist-packages (from pyspark) (0.10.9.7)\n",
            "Collecting findspark\n",
            "  Downloading findspark-2.0.1-py2.py3-none-any.whl.metadata (352 bytes)\n",
            "Downloading findspark-2.0.1-py2.py3-none-any.whl (4.4 kB)\n",
            "Installing collected packages: findspark\n",
            "Successfully installed findspark-2.0.1\n"
          ]
        }
      ],
      "source": [
        "# Installing required packages\n",
        "!pip install pyspark\n",
        "!pip install findspark"
      ]
    },
    {
      "cell_type": "code",
      "execution_count": null,
      "metadata": {
        "id": "q1N-clCPb1PR"
      },
      "outputs": [],
      "source": [
        "import findspark\n",
        "findspark.init()"
      ]
    },
    {
      "cell_type": "code",
      "execution_count": null,
      "metadata": {
        "id": "TpHykQ_Wb3Zw"
      },
      "outputs": [],
      "source": [
        "# PySpark is the Spark API for Python. In this lab, we use PySpark to initialize the spark context.\n",
        "from pyspark import SparkContext, SparkConf\n",
        "from pyspark.sql import SparkSession"
      ]
    },
    {
      "cell_type": "code",
      "execution_count": null,
      "metadata": {
        "id": "tM0EGdHjb5cP"
      },
      "outputs": [],
      "source": [
        "# Creating a spark context class, which is a driver\n",
        "sc = SparkContext()"
      ]
    },
    {
      "cell_type": "markdown",
      "metadata": {
        "id": "Toawgpz9b-8V"
      },
      "source": [
        "import dataframe"
      ]
    },
    {
      "cell_type": "code",
      "execution_count": null,
      "metadata": {
        "id": "BoauTeLMcBzY"
      },
      "outputs": [],
      "source": [
        "# Creating a spark session\n",
        "spark = SparkSession \\\n",
        "    .builder \\\n",
        "    .appName(\"Python Spark DataFrames Import Student\") \\\n",
        "    .config(\"spark.some.config.option\", \"some-value\") \\\n",
        "    .getOrCreate()"
      ]
    },
    {
      "cell_type": "code",
      "execution_count": 102,
      "metadata": {
        "colab": {
          "base_uri": "https://localhost:8080/"
        },
        "collapsed": true,
        "id": "2Yg6mAOscMoE",
        "outputId": "185e5303-b286-4072-e179-96ed799b991c"
      },
      "outputs": [
        {
          "name": "stdout",
          "output_type": "stream",
          "text": [
            "+---+---------+-----+-------+-----+------------+----------+----------------+----+----+----+----+----+----+----+----+----+----+----+----+\n",
            "|No.|StudentID|Major|    _c3|Title|        Name|MiddleName|        LastName| GPA| AGE|_c10|_c11|_c12|_c13|_c14|_c15|_c16|_c17|_c18|  12|\n",
            "+---+---------+-----+-------+-----+------------+----------+----------------+----+----+----+----+----+----+----+----+----+----+----+----+\n",
            "|  1|  6480125| ICCI|EGCI466|  Mr.|     Pachara|      NULL|     Akkanwanich| 2.5|  20|NULL|NULL|NULL|NULL|NULL|NULL|NULL|NULL|NULL|NULL|\n",
            "|  2|  6480138| ICCI|EGCI466|  Mr.|      Pavorn|      NULL|        Thongyoo| 2.9|  19|NULL|NULL|NULL|NULL|NULL|NULL|NULL|NULL|NULL|NULL|\n",
            "|  3|  6480358| ICCI|EGCI466|  Mr.|    Rapeepat|      NULL|   Pokpattanakul|NULL|  20|NULL|NULL|NULL|NULL|NULL|NULL|NULL|NULL|NULL|NULL|\n",
            "|  4|  6480376| ICCI|EGCI466|  Ms.|    Jitsopin|      NULL|      Kanthaulis| 1.6|  15|NULL|NULL|NULL|NULL|NULL|NULL|NULL|NULL|NULL|NULL|\n",
            "|  5|  6480539| ICCI|EGCI466|  Mr.|  Prompiriya|          |     Thaksinorot|NULL|  20|NULL|NULL|NULL|NULL|NULL|NULL|NULL|NULL|NULL|NULL|\n",
            "|  6|  6480566| ICCI|EGCI466|  Mr.|     Norawat|          |        Gajaseni|NULL|NULL|NULL|NULL|NULL|NULL|NULL|NULL|NULL|NULL|NULL|NULL|\n",
            "|  7|  6480963| ICCI|EGCI466|  Mr.|Sirinuttawat|      NULL|   Supavachapong|NULL|NULL|NULL|NULL|NULL|NULL|NULL|NULL|NULL|NULL|NULL|NULL|\n",
            "|  8|  6481054| ICCI|EGCI466|  Mr.|     Eakawit|      NULL|        NONTAPOT|NULL|  26|NULL|NULL|NULL|NULL|NULL|NULL|NULL|NULL|NULL|NULL|\n",
            "|  9|  6481101| ICCI|EGCI466|  Mr.|      Pranai|      NULL|     TISAYATIKOM| 1.9|  25|NULL|NULL|NULL|NULL|NULL|NULL|NULL|NULL|NULL|NULL|\n",
            "| 10|  6481152| ICCI|EGCI466|  Mr.|       Tipok|      NULL|         KANNGAN|NULL|NULL|NULL|NULL|NULL|NULL|NULL|NULL|NULL|NULL|NULL|NULL|\n",
            "| 11|  6481176| ICCI|EGCI466|  Mr.|    Charupat|      NULL|     TRAKULCHANG| 3.6|  30|NULL|NULL|NULL|NULL|NULL|NULL|NULL|NULL|NULL|NULL|\n",
            "| 12|  6481178| ICCI|EGCI466|  Mr.|     Promsan|      NULL|    PANASAKULKAN|NULL|NULL|NULL|NULL|NULL|NULL|NULL|NULL|NULL|NULL|NULL|NULL|\n",
            "| 13|  6481205| ICCI|EGCI466|  Mr.|   Thanapoom|      NULL|     TANALAKWONG|NULL|NULL|NULL|NULL|NULL|NULL|NULL|NULL|NULL|NULL|NULL|NULL|\n",
            "| 14|  6481221| ICCI|EGCI466|  Mr.|     Teetath|      NULL|        TEERAKIJ| 2.4|  26|NULL|NULL|NULL|NULL|NULL|NULL|NULL|NULL|NULL|NULL|\n",
            "| 15|  6481299| ICCI|EGCI466|  Ms.|    Thananya|      NULL|     OSOCHPROMMA|NULL|  20|NULL|NULL|NULL|NULL|NULL|NULL|NULL|NULL|NULL|NULL|\n",
            "| 16|  6481305| ICCI|EGCI466|  Mr.|   Suttikarn|      NULL|        KHUNTONG|NULL|NULL|NULL|NULL|NULL|NULL|NULL|NULL|NULL|NULL|NULL|NULL|\n",
            "| 17|  6481322| ICCI|EGCI466|  Mr.|        Mark| Kittiphat|   KUPRASERTWONG| 3.0|NULL|NULL|NULL|NULL|NULL|NULL|NULL|NULL|NULL|NULL|NULL|\n",
            "| 18|  6481324| ICCI|EGCI466|  Mr.|   Karndanai|      NULL|UDOMSIRIPHOCKSAI| 1.7|NULL|NULL|NULL|NULL|NULL|NULL|NULL|NULL|NULL|NULL|NULL|\n",
            "| 19|  6481366| ICCS|EGCI466|  Ms.|   Chinanard|      NULL|      SATHITSETH|NULL|NULL|NULL|NULL|NULL|NULL|NULL|NULL|NULL|NULL|NULL|NULL|\n",
            "| 20|  6580043| ICCI|EGCI466|  Mr.|       Pakin|      NULL|  PANAWATTANAKUL|NULL|NULL|NULL|NULL|NULL|NULL|NULL|NULL|NULL|NULL|NULL|NULL|\n",
            "+---+---------+-----+-------+-----+------------+----------+----------------+----+----+----+----+----+----+----+----+----+----+----+----+\n",
            "only showing top 20 rows\n",
            "\n",
            "root\n",
            " |-- No.: integer (nullable = true)\n",
            " |-- StudentID: integer (nullable = true)\n",
            " |-- Major: string (nullable = true)\n",
            " |-- _c3: string (nullable = true)\n",
            " |-- Title: string (nullable = true)\n",
            " |-- Name: string (nullable = true)\n",
            " |-- MiddleName: string (nullable = true)\n",
            " |-- LastName: string (nullable = true)\n",
            " |-- GPA: double (nullable = true)\n",
            " |-- AGE: integer (nullable = true)\n",
            " |-- _c10: string (nullable = true)\n",
            " |-- _c11: string (nullable = true)\n",
            " |-- _c12: string (nullable = true)\n",
            " |-- _c13: string (nullable = true)\n",
            " |-- _c14: string (nullable = true)\n",
            " |-- _c15: string (nullable = true)\n",
            " |-- _c16: string (nullable = true)\n",
            " |-- _c17: string (nullable = true)\n",
            " |-- _c18: string (nullable = true)\n",
            " |-- 12: string (nullable = true)\n",
            "\n"
          ]
        }
      ],
      "source": [
        "dataframe = spark.read.csv(\"student.csv\",header = 'true', inferSchema = 'true')\n",
        "dataframe.show()\n",
        "dataframe.printSchema()"
      ]
    },
    {
      "cell_type": "code",
      "execution_count": 103,
      "metadata": {
        "colab": {
          "base_uri": "https://localhost:8080/"
        },
        "collapsed": true,
        "id": "jvHp4pD8chbA",
        "outputId": "1572a9b3-72fb-4431-b3a3-16a7493dc6c4"
      },
      "outputs": [
        {
          "data": {
            "text/plain": [
              "['No.',\n",
              " 'StudentID',\n",
              " 'Major',\n",
              " '_c3',\n",
              " 'Title',\n",
              " 'Name',\n",
              " 'MiddleName',\n",
              " 'LastName',\n",
              " 'GPA',\n",
              " 'AGE',\n",
              " '_c10',\n",
              " '_c11',\n",
              " '_c12',\n",
              " '_c13',\n",
              " '_c14',\n",
              " '_c15',\n",
              " '_c16',\n",
              " '_c17',\n",
              " '_c18',\n",
              " '12']"
            ]
          },
          "execution_count": 103,
          "metadata": {},
          "output_type": "execute_result"
        }
      ],
      "source": [
        "dataframe.columns"
      ]
    },
    {
      "cell_type": "code",
      "execution_count": 104,
      "metadata": {
        "id": "U1tR3nDNcxsu"
      },
      "outputs": [],
      "source": [
        "dataframe = dataframe.drop(*dataframe.columns[-10:])"
      ]
    },
    {
      "cell_type": "code",
      "execution_count": 105,
      "metadata": {
        "id": "3ONEvQINdq0l"
      },
      "outputs": [],
      "source": [
        "dataframe = dataframe.drop('No.')\n",
        "dataframe = dataframe.drop('_c3')"
      ]
    },
    {
      "cell_type": "code",
      "execution_count": 106,
      "metadata": {
        "colab": {
          "base_uri": "https://localhost:8080/"
        },
        "id": "g76v1k3efVCl",
        "outputId": "8bd1499c-b5d7-46de-a999-c3921e738299"
      },
      "outputs": [
        {
          "name": "stdout",
          "output_type": "stream",
          "text": [
            "+---------+-----+-----+------------+----------+----------------+----+----+\n",
            "|StudentID|Major|Title|        Name|MiddleName|        LastName| GPA| AGE|\n",
            "+---------+-----+-----+------------+----------+----------------+----+----+\n",
            "|  6480125| ICCI|  Mr.|     Pachara|      NULL|     Akkanwanich| 2.5|  20|\n",
            "|  6480138| ICCI|  Mr.|      Pavorn|      NULL|        Thongyoo| 2.9|  19|\n",
            "|  6480358| ICCI|  Mr.|    Rapeepat|      NULL|   Pokpattanakul|NULL|  20|\n",
            "|  6480376| ICCI|  Ms.|    Jitsopin|      NULL|      Kanthaulis| 1.6|  15|\n",
            "|  6480539| ICCI|  Mr.|  Prompiriya|          |     Thaksinorot|NULL|  20|\n",
            "|  6480566| ICCI|  Mr.|     Norawat|          |        Gajaseni|NULL|NULL|\n",
            "|  6480963| ICCI|  Mr.|Sirinuttawat|      NULL|   Supavachapong|NULL|NULL|\n",
            "|  6481054| ICCI|  Mr.|     Eakawit|      NULL|        NONTAPOT|NULL|  26|\n",
            "|  6481101| ICCI|  Mr.|      Pranai|      NULL|     TISAYATIKOM| 1.9|  25|\n",
            "|  6481152| ICCI|  Mr.|       Tipok|      NULL|         KANNGAN|NULL|NULL|\n",
            "|  6481176| ICCI|  Mr.|    Charupat|      NULL|     TRAKULCHANG| 3.6|  30|\n",
            "|  6481178| ICCI|  Mr.|     Promsan|      NULL|    PANASAKULKAN|NULL|NULL|\n",
            "|  6481205| ICCI|  Mr.|   Thanapoom|      NULL|     TANALAKWONG|NULL|NULL|\n",
            "|  6481221| ICCI|  Mr.|     Teetath|      NULL|        TEERAKIJ| 2.4|  26|\n",
            "|  6481299| ICCI|  Ms.|    Thananya|      NULL|     OSOCHPROMMA|NULL|  20|\n",
            "|  6481305| ICCI|  Mr.|   Suttikarn|      NULL|        KHUNTONG|NULL|NULL|\n",
            "|  6481322| ICCI|  Mr.|        Mark| Kittiphat|   KUPRASERTWONG| 3.0|NULL|\n",
            "|  6481324| ICCI|  Mr.|   Karndanai|      NULL|UDOMSIRIPHOCKSAI| 1.7|NULL|\n",
            "|  6481366| ICCS|  Ms.|   Chinanard|      NULL|      SATHITSETH|NULL|NULL|\n",
            "|  6580043| ICCI|  Mr.|       Pakin|      NULL|  PANAWATTANAKUL|NULL|NULL|\n",
            "+---------+-----+-----+------------+----------+----------------+----+----+\n",
            "only showing top 20 rows\n",
            "\n"
          ]
        }
      ],
      "source": [
        "dataframe.show()"
      ]
    },
    {
      "cell_type": "markdown",
      "metadata": {
        "id": "btSHLBczfZY-"
      },
      "source": [
        "remove dulps"
      ]
    },
    {
      "cell_type": "code",
      "execution_count": 107,
      "metadata": {
        "id": "YS8I8xYmfan6"
      },
      "outputs": [],
      "source": [
        "dataframe = dataframe.dropDuplicates()"
      ]
    },
    {
      "cell_type": "code",
      "execution_count": 108,
      "metadata": {
        "colab": {
          "base_uri": "https://localhost:8080/"
        },
        "id": "SQmTeMu_f2P9",
        "outputId": "a32c70b4-4a8d-4008-af78-db1f4497034b"
      },
      "outputs": [
        {
          "name": "stdout",
          "output_type": "stream",
          "text": [
            "+---------+-----+-----+------------+----------+----------------+----+----+\n",
            "|StudentID|Major|Title|        Name|MiddleName|        LastName| GPA| AGE|\n",
            "+---------+-----+-----+------------+----------+----------------+----+----+\n",
            "|  6481205| ICCI|  Mr.|   Thanapoom|      NULL|     TANALAKWONG|NULL|NULL|\n",
            "|  6580195| ICCI|  Mr.|       Pibhu|      NULL| CHITBURANACHART|NULL|  18|\n",
            "|  6481152| ICCI|  Mr.|       Tipok|      NULL|         KANNGAN|NULL|NULL|\n",
            "|  6481221| ICCI|  Mr.|     Teetath|      NULL|        TEERAKIJ| 2.4|  26|\n",
            "|  6580871| ICCI|  Ms.|    Thitirat|      NULL|  KULPORNPAISARN|NULL|  15|\n",
            "|  6580065| ICCI|  Ms.|    Pitchapa|      NULL|    PHISUTPICHET|NULL|  17|\n",
            "|  6481305| ICCI|  Mr.|   Suttikarn|      NULL|        KHUNTONG|NULL|NULL|\n",
            "|  6480539| ICCI|  Mr.|  Prompiriya|          |     Thaksinorot|NULL|  20|\n",
            "|  6580081| ICCI|  Ms.| Nitchayanin|      NULL|     THAMKUNANON|NULL|  19|\n",
            "|  6480963| ICCI|  Mr.|Sirinuttawat|      NULL|   Supavachapong|NULL|NULL|\n",
            "|  6481101| ICCI|  Mr.|      Pranai|      NULL|     TISAYATIKOM| 1.9|  25|\n",
            "|  6481324| ICCI|  Mr.|   Karndanai|      NULL|UDOMSIRIPHOCKSAI| 1.7|NULL|\n",
            "|  6481178| ICCI|  Mr.|     Promsan|      NULL|    PANASAKULKAN|NULL|NULL|\n",
            "|  6481366| ICCS|  Ms.|   Chinanard|      NULL|      SATHITSETH|NULL|NULL|\n",
            "|  6480358| ICCI|  Mr.|    Rapeepat|      NULL|   Pokpattanakul|NULL|  20|\n",
            "|  6480376| ICCI|  Ms.|    Jitsopin|      NULL|      Kanthaulis| 1.6|  15|\n",
            "|  6581117| ICCI|  Mr.|    Supakorn|      NULL|        PANYADEE|NULL|NULL|\n",
            "|  6481322| ICCI|  Mr.|        Mark| Kittiphat|   KUPRASERTWONG| 3.0|NULL|\n",
            "|  6580043| ICCI|  Mr.|       Pakin|      NULL|  PANAWATTANAKUL|NULL|NULL|\n",
            "|  6480125| ICCI|  Mr.|     Pachara|      NULL|     Akkanwanich| 2.5|  20|\n",
            "+---------+-----+-----+------------+----------+----------------+----+----+\n",
            "only showing top 20 rows\n",
            "\n"
          ]
        }
      ],
      "source": [
        "dataframe.show()"
      ]
    },
    {
      "cell_type": "markdown",
      "metadata": {
        "id": "sUx-mTNMf_Cn"
      },
      "source": [
        "Capitalized name"
      ]
    },
    {
      "cell_type": "code",
      "execution_count": 109,
      "metadata": {
        "id": "vb08hbRtgBTo"
      },
      "outputs": [],
      "source": [
        "from pyspark.sql.functions import udf #user defined function"
      ]
    },
    {
      "cell_type": "code",
      "execution_count": 110,
      "metadata": {
        "id": "P1f6DspbgD33"
      },
      "outputs": [],
      "source": [
        "def capitalized(str):\n",
        "  return str.upper()"
      ]
    },
    {
      "cell_type": "code",
      "execution_count": 111,
      "metadata": {
        "id": "NKR8ptHggJNX"
      },
      "outputs": [],
      "source": [
        "upperCase = udf(lambda z: capitalized(z))"
      ]
    },
    {
      "cell_type": "code",
      "execution_count": 112,
      "metadata": {
        "colab": {
          "base_uri": "https://localhost:8080/"
        },
        "id": "j6F8n7fzO8Bl",
        "outputId": "08a15cca-27e4-4eb3-fea4-5a2ea3f1b08a"
      },
      "outputs": [
        {
          "name": "stdout",
          "output_type": "stream",
          "text": [
            "root\n",
            " |-- StudentID: integer (nullable = true)\n",
            " |-- Major: string (nullable = true)\n",
            " |-- Title: string (nullable = true)\n",
            " |-- Name: string (nullable = true)\n",
            " |-- MiddleName: string (nullable = true)\n",
            " |-- LastName: string (nullable = true)\n",
            " |-- GPA: double (nullable = true)\n",
            " |-- AGE: integer (nullable = true)\n",
            "\n"
          ]
        }
      ],
      "source": [
        "dataframe.printSchema()"
      ]
    },
    {
      "cell_type": "code",
      "execution_count": 113,
      "metadata": {
        "id": "E9qKraB7gQU_"
      },
      "outputs": [],
      "source": [
        "dataframe = dataframe.withColumn('UppercaseName', upperCase(dataframe['Name']))"
      ]
    },
    {
      "cell_type": "code",
      "execution_count": 114,
      "metadata": {
        "colab": {
          "base_uri": "https://localhost:8080/"
        },
        "id": "WEm3aztLP0sl",
        "outputId": "06a199c6-79a8-4f60-a35d-1f8d42cb0774"
      },
      "outputs": [
        {
          "name": "stdout",
          "output_type": "stream",
          "text": [
            "+---------+-----+-----+------------+----------+----------------+----+----+-------------+\n",
            "|StudentID|Major|Title|        Name|MiddleName|        LastName| GPA| AGE|UppercaseName|\n",
            "+---------+-----+-----+------------+----------+----------------+----+----+-------------+\n",
            "|  6481205| ICCI|  Mr.|   Thanapoom|      NULL|     TANALAKWONG|NULL|NULL|    THANAPOOM|\n",
            "|  6580195| ICCI|  Mr.|       Pibhu|      NULL| CHITBURANACHART|NULL|  18|        PIBHU|\n",
            "|  6481152| ICCI|  Mr.|       Tipok|      NULL|         KANNGAN|NULL|NULL|        TIPOK|\n",
            "|  6481221| ICCI|  Mr.|     Teetath|      NULL|        TEERAKIJ| 2.4|  26|      TEETATH|\n",
            "|  6580871| ICCI|  Ms.|    Thitirat|      NULL|  KULPORNPAISARN|NULL|  15|     THITIRAT|\n",
            "|  6580065| ICCI|  Ms.|    Pitchapa|      NULL|    PHISUTPICHET|NULL|  17|     PITCHAPA|\n",
            "|  6481305| ICCI|  Mr.|   Suttikarn|      NULL|        KHUNTONG|NULL|NULL|    SUTTIKARN|\n",
            "|  6480539| ICCI|  Mr.|  Prompiriya|          |     Thaksinorot|NULL|  20|   PROMPIRIYA|\n",
            "|  6580081| ICCI|  Ms.| Nitchayanin|      NULL|     THAMKUNANON|NULL|  19|  NITCHAYANIN|\n",
            "|  6480963| ICCI|  Mr.|Sirinuttawat|      NULL|   Supavachapong|NULL|NULL| SIRINUTTAWAT|\n",
            "|  6481101| ICCI|  Mr.|      Pranai|      NULL|     TISAYATIKOM| 1.9|  25|       PRANAI|\n",
            "|  6481324| ICCI|  Mr.|   Karndanai|      NULL|UDOMSIRIPHOCKSAI| 1.7|NULL|    KARNDANAI|\n",
            "|  6481178| ICCI|  Mr.|     Promsan|      NULL|    PANASAKULKAN|NULL|NULL|      PROMSAN|\n",
            "|  6481366| ICCS|  Ms.|   Chinanard|      NULL|      SATHITSETH|NULL|NULL|    CHINANARD|\n",
            "|  6480358| ICCI|  Mr.|    Rapeepat|      NULL|   Pokpattanakul|NULL|  20|     RAPEEPAT|\n",
            "|  6480376| ICCI|  Ms.|    Jitsopin|      NULL|      Kanthaulis| 1.6|  15|     JITSOPIN|\n",
            "|  6581117| ICCI|  Mr.|    Supakorn|      NULL|        PANYADEE|NULL|NULL|     SUPAKORN|\n",
            "|  6481322| ICCI|  Mr.|        Mark| Kittiphat|   KUPRASERTWONG| 3.0|NULL|         MARK|\n",
            "|  6580043| ICCI|  Mr.|       Pakin|      NULL|  PANAWATTANAKUL|NULL|NULL|        PAKIN|\n",
            "|  6480125| ICCI|  Mr.|     Pachara|      NULL|     Akkanwanich| 2.5|  20|      PACHARA|\n",
            "+---------+-----+-----+------------+----------+----------------+----+----+-------------+\n",
            "only showing top 20 rows\n",
            "\n"
          ]
        }
      ],
      "source": [
        "dataframe.show()"
      ]
    },
    {
      "cell_type": "code",
      "execution_count": 116,
      "metadata": {
        "id": "MXJL1qfRTRDl"
      },
      "outputs": [],
      "source": [
        "dataframe = dataframe.drop(\"Name\")\n",
        "dataframe = dataframe.withColumnRenamed(\"UppercaseName\",\"Name\")"
      ]
    },
    {
      "cell_type": "markdown",
      "metadata": {
        "id": "7Xlas9AYg6V5"
      },
      "source": [
        "Fill in GPA/age using its avg"
      ]
    },
    {
      "cell_type": "code",
      "execution_count": 117,
      "metadata": {
        "id": "PtDu6NAOhiZd"
      },
      "outputs": [],
      "source": [
        "from pyspark.sql.functions import avg"
      ]
    },
    {
      "cell_type": "code",
      "execution_count": 118,
      "metadata": {
        "id": "7C9oz-cThAiC"
      },
      "outputs": [],
      "source": [
        "#fill in GPA\n",
        "dataframe = dataframe.fillna(dataframe.select(avg(dataframe['GPA'])).collect()[0][0],['GPA'])"
      ]
    },
    {
      "cell_type": "code",
      "execution_count": 119,
      "metadata": {
        "colab": {
          "base_uri": "https://localhost:8080/"
        },
        "id": "3qGQcqvah9TB",
        "outputId": "11271d1b-51d6-4b5b-e645-5321b383d475"
      },
      "outputs": [
        {
          "name": "stdout",
          "output_type": "stream",
          "text": [
            "+---------+-----+-----+----------+----------------+---+----+------------+\n",
            "|StudentID|Major|Title|MiddleName|        LastName|GPA| AGE|        Name|\n",
            "+---------+-----+-----+----------+----------------+---+----+------------+\n",
            "|  6481205| ICCI|  Mr.|      NULL|     TANALAKWONG|2.5|NULL|   THANAPOOM|\n",
            "|  6580195| ICCI|  Mr.|      NULL| CHITBURANACHART|2.5|  18|       PIBHU|\n",
            "|  6481152| ICCI|  Mr.|      NULL|         KANNGAN|2.5|NULL|       TIPOK|\n",
            "|  6481221| ICCI|  Mr.|      NULL|        TEERAKIJ|2.4|  26|     TEETATH|\n",
            "|  6580871| ICCI|  Ms.|      NULL|  KULPORNPAISARN|2.5|  15|    THITIRAT|\n",
            "|  6580065| ICCI|  Ms.|      NULL|    PHISUTPICHET|2.5|  17|    PITCHAPA|\n",
            "|  6481305| ICCI|  Mr.|      NULL|        KHUNTONG|2.5|NULL|   SUTTIKARN|\n",
            "|  6480539| ICCI|  Mr.|          |     Thaksinorot|2.5|  20|  PROMPIRIYA|\n",
            "|  6580081| ICCI|  Ms.|      NULL|     THAMKUNANON|2.5|  19| NITCHAYANIN|\n",
            "|  6480963| ICCI|  Mr.|      NULL|   Supavachapong|2.5|NULL|SIRINUTTAWAT|\n",
            "|  6481101| ICCI|  Mr.|      NULL|     TISAYATIKOM|1.9|  25|      PRANAI|\n",
            "|  6481324| ICCI|  Mr.|      NULL|UDOMSIRIPHOCKSAI|1.7|NULL|   KARNDANAI|\n",
            "|  6481178| ICCI|  Mr.|      NULL|    PANASAKULKAN|2.5|NULL|     PROMSAN|\n",
            "|  6481366| ICCS|  Ms.|      NULL|      SATHITSETH|2.5|NULL|   CHINANARD|\n",
            "|  6480358| ICCI|  Mr.|      NULL|   Pokpattanakul|2.5|  20|    RAPEEPAT|\n",
            "|  6480376| ICCI|  Ms.|      NULL|      Kanthaulis|1.6|  15|    JITSOPIN|\n",
            "|  6581117| ICCI|  Mr.|      NULL|        PANYADEE|2.5|NULL|    SUPAKORN|\n",
            "|  6481322| ICCI|  Mr.| Kittiphat|   KUPRASERTWONG|3.0|NULL|        MARK|\n",
            "|  6580043| ICCI|  Mr.|      NULL|  PANAWATTANAKUL|2.5|NULL|       PAKIN|\n",
            "|  6480125| ICCI|  Mr.|      NULL|     Akkanwanich|2.5|  20|     PACHARA|\n",
            "+---------+-----+-----+----------+----------------+---+----+------------+\n",
            "only showing top 20 rows\n",
            "\n"
          ]
        }
      ],
      "source": [
        "dataframe.show()"
      ]
    },
    {
      "cell_type": "code",
      "execution_count": 120,
      "metadata": {
        "id": "XWKZL2cBiFRd"
      },
      "outputs": [],
      "source": [
        "#fill in age\n",
        "dataframe = dataframe.fillna(dataframe.select(avg(dataframe['age'])).collect()[0][0],['age'])"
      ]
    },
    {
      "cell_type": "code",
      "execution_count": 121,
      "metadata": {
        "colab": {
          "base_uri": "https://localhost:8080/"
        },
        "id": "-_Q-fwH6iOI6",
        "outputId": "c86a7105-1138-491c-ced7-e19ac2b03cd8"
      },
      "outputs": [
        {
          "name": "stdout",
          "output_type": "stream",
          "text": [
            "+---------+-----+-----+----------+----------------+---+---+------------+\n",
            "|StudentID|Major|Title|MiddleName|        LastName|GPA|AGE|        Name|\n",
            "+---------+-----+-----+----------+----------------+---+---+------------+\n",
            "|  6481205| ICCI|  Mr.|      NULL|     TANALAKWONG|2.5| 20|   THANAPOOM|\n",
            "|  6580195| ICCI|  Mr.|      NULL| CHITBURANACHART|2.5| 18|       PIBHU|\n",
            "|  6481152| ICCI|  Mr.|      NULL|         KANNGAN|2.5| 20|       TIPOK|\n",
            "|  6481221| ICCI|  Mr.|      NULL|        TEERAKIJ|2.4| 26|     TEETATH|\n",
            "|  6580871| ICCI|  Ms.|      NULL|  KULPORNPAISARN|2.5| 15|    THITIRAT|\n",
            "|  6580065| ICCI|  Ms.|      NULL|    PHISUTPICHET|2.5| 17|    PITCHAPA|\n",
            "|  6481305| ICCI|  Mr.|      NULL|        KHUNTONG|2.5| 20|   SUTTIKARN|\n",
            "|  6480539| ICCI|  Mr.|          |     Thaksinorot|2.5| 20|  PROMPIRIYA|\n",
            "|  6580081| ICCI|  Ms.|      NULL|     THAMKUNANON|2.5| 19| NITCHAYANIN|\n",
            "|  6480963| ICCI|  Mr.|      NULL|   Supavachapong|2.5| 20|SIRINUTTAWAT|\n",
            "|  6481101| ICCI|  Mr.|      NULL|     TISAYATIKOM|1.9| 25|      PRANAI|\n",
            "|  6481324| ICCI|  Mr.|      NULL|UDOMSIRIPHOCKSAI|1.7| 20|   KARNDANAI|\n",
            "|  6481178| ICCI|  Mr.|      NULL|    PANASAKULKAN|2.5| 20|     PROMSAN|\n",
            "|  6481366| ICCS|  Ms.|      NULL|      SATHITSETH|2.5| 20|   CHINANARD|\n",
            "|  6480358| ICCI|  Mr.|      NULL|   Pokpattanakul|2.5| 20|    RAPEEPAT|\n",
            "|  6480376| ICCI|  Ms.|      NULL|      Kanthaulis|1.6| 15|    JITSOPIN|\n",
            "|  6581117| ICCI|  Mr.|      NULL|        PANYADEE|2.5| 20|    SUPAKORN|\n",
            "|  6481322| ICCI|  Mr.| Kittiphat|   KUPRASERTWONG|3.0| 20|        MARK|\n",
            "|  6580043| ICCI|  Mr.|      NULL|  PANAWATTANAKUL|2.5| 20|       PAKIN|\n",
            "|  6480125| ICCI|  Mr.|      NULL|     Akkanwanich|2.5| 20|     PACHARA|\n",
            "+---------+-----+-----+----------+----------------+---+---+------------+\n",
            "only showing top 20 rows\n",
            "\n"
          ]
        }
      ],
      "source": [
        "dataframe.show()"
      ]
    },
    {
      "cell_type": "markdown",
      "metadata": {
        "id": "hfE6B-0NiS0q"
      },
      "source": [
        "Calculate graduation year"
      ]
    },
    {
      "cell_type": "code",
      "execution_count": 122,
      "metadata": {
        "id": "t46oP_OGiWK-"
      },
      "outputs": [],
      "source": [
        "def calGradYr(stuId):\n",
        "  yrEntered = str((stuId - (stuId % 100000))).rstrip('0')\n",
        "  yrEntered = \"25\"+yrEntered #2564/2565\n",
        "  gradYr = (int(yrEntered)+5)-543\n",
        "  #actually 64 should graduate in 25 and 65 in 26 logically but in order to follow this task,\n",
        "  #i have to +5 instead of +4\n",
        "  return gradYr"
      ]
    },
    {
      "cell_type": "code",
      "execution_count": 123,
      "metadata": {
        "id": "1Dvq43hbG0cV"
      },
      "outputs": [],
      "source": [
        "gradYrUDF = udf(lambda z : calGradYr(z)) # create udf"
      ]
    },
    {
      "cell_type": "code",
      "execution_count": 124,
      "metadata": {
        "id": "InXW7a6IG_kK"
      },
      "outputs": [],
      "source": [
        "dataframe = dataframe.withColumn(\"GraduatedYear\",gradYrUDF(\"StudentID\"))"
      ]
    },
    {
      "cell_type": "code",
      "execution_count": 125,
      "metadata": {
        "colab": {
          "base_uri": "https://localhost:8080/"
        },
        "id": "jxx5VNZ-KNJE",
        "outputId": "9b353779-a603-4363-e950-6a555141e5ad"
      },
      "outputs": [
        {
          "name": "stdout",
          "output_type": "stream",
          "text": [
            "+---------+-----+-----+----------+----------------+---+---+------------+-------------+\n",
            "|StudentID|Major|Title|MiddleName|        LastName|GPA|AGE|        Name|GraduatedYear|\n",
            "+---------+-----+-----+----------+----------------+---+---+------------+-------------+\n",
            "|  6481205| ICCI|  Mr.|      NULL|     TANALAKWONG|2.5| 20|   THANAPOOM|         2026|\n",
            "|  6580195| ICCI|  Mr.|      NULL| CHITBURANACHART|2.5| 18|       PIBHU|         2027|\n",
            "|  6481152| ICCI|  Mr.|      NULL|         KANNGAN|2.5| 20|       TIPOK|         2026|\n",
            "|  6481221| ICCI|  Mr.|      NULL|        TEERAKIJ|2.4| 26|     TEETATH|         2026|\n",
            "|  6580871| ICCI|  Ms.|      NULL|  KULPORNPAISARN|2.5| 15|    THITIRAT|         2027|\n",
            "|  6580065| ICCI|  Ms.|      NULL|    PHISUTPICHET|2.5| 17|    PITCHAPA|         2027|\n",
            "|  6481305| ICCI|  Mr.|      NULL|        KHUNTONG|2.5| 20|   SUTTIKARN|         2026|\n",
            "|  6480539| ICCI|  Mr.|          |     Thaksinorot|2.5| 20|  PROMPIRIYA|         2026|\n",
            "|  6580081| ICCI|  Ms.|      NULL|     THAMKUNANON|2.5| 19| NITCHAYANIN|         2027|\n",
            "|  6480963| ICCI|  Mr.|      NULL|   Supavachapong|2.5| 20|SIRINUTTAWAT|         2026|\n",
            "|  6481101| ICCI|  Mr.|      NULL|     TISAYATIKOM|1.9| 25|      PRANAI|         2026|\n",
            "|  6481324| ICCI|  Mr.|      NULL|UDOMSIRIPHOCKSAI|1.7| 20|   KARNDANAI|         2026|\n",
            "|  6481178| ICCI|  Mr.|      NULL|    PANASAKULKAN|2.5| 20|     PROMSAN|         2026|\n",
            "|  6481366| ICCS|  Ms.|      NULL|      SATHITSETH|2.5| 20|   CHINANARD|         2026|\n",
            "|  6480358| ICCI|  Mr.|      NULL|   Pokpattanakul|2.5| 20|    RAPEEPAT|         2026|\n",
            "|  6480376| ICCI|  Ms.|      NULL|      Kanthaulis|1.6| 15|    JITSOPIN|         2026|\n",
            "|  6581117| ICCI|  Mr.|      NULL|        PANYADEE|2.5| 20|    SUPAKORN|         2027|\n",
            "|  6481322| ICCI|  Mr.| Kittiphat|   KUPRASERTWONG|3.0| 20|        MARK|         2026|\n",
            "|  6580043| ICCI|  Mr.|      NULL|  PANAWATTANAKUL|2.5| 20|       PAKIN|         2027|\n",
            "|  6480125| ICCI|  Mr.|      NULL|     Akkanwanich|2.5| 20|     PACHARA|         2026|\n",
            "+---------+-----+-----+----------+----------------+---+---+------------+-------------+\n",
            "only showing top 20 rows\n",
            "\n"
          ]
        }
      ],
      "source": [
        "dataframe.show()"
      ]
    },
    {
      "cell_type": "markdown",
      "metadata": {
        "id": "cKfZQQJtI88p"
      },
      "source": [
        "Show id, name, gpa, graduation year"
      ]
    },
    {
      "cell_type": "code",
      "execution_count": 126,
      "metadata": {
        "id": "BeVVAf5iI8Im"
      },
      "outputs": [],
      "source": [
        "dataframe.createOrReplaceTempView(\"student\")"
      ]
    },
    {
      "cell_type": "code",
      "execution_count": 141,
      "metadata": {
        "id": "iVwbbsOMSk1O"
      },
      "outputs": [],
      "source": [
        "dataframe = spark.sql(\"select StudentID,Name, GPA, GraduatedYear from student order by StudentID\")"
      ]
    },
    {
      "cell_type": "code",
      "execution_count": 142,
      "metadata": {
        "colab": {
          "base_uri": "https://localhost:8080/"
        },
        "id": "2VR_slk2R98K",
        "outputId": "9d113319-bd9c-4352-8419-ebf8138de61b"
      },
      "outputs": [
        {
          "name": "stdout",
          "output_type": "stream",
          "text": [
            "+---------+------------+---+-------------+\n",
            "|StudentID|        Name|GPA|GraduatedYear|\n",
            "+---------+------------+---+-------------+\n",
            "|  6480125|     PACHARA|2.5|         2026|\n",
            "|  6480138|      PAVORN|2.9|         2026|\n",
            "|  6480358|    RAPEEPAT|2.5|         2026|\n",
            "|  6480376|    JITSOPIN|1.6|         2026|\n",
            "|  6480539|  PROMPIRIYA|2.5|         2026|\n",
            "|  6480566|     NORAWAT|2.5|         2026|\n",
            "|  6480963|SIRINUTTAWAT|2.5|         2026|\n",
            "|  6481054|     EAKAWIT|2.5|         2026|\n",
            "|  6481101|      PRANAI|1.9|         2026|\n",
            "|  6481152|       TIPOK|2.5|         2026|\n",
            "|  6481176|    CHARUPAT|3.6|         2026|\n",
            "|  6481178|     PROMSAN|2.5|         2026|\n",
            "|  6481205|   THANAPOOM|2.5|         2026|\n",
            "|  6481221|     TEETATH|2.4|         2026|\n",
            "|  6481299|    THANANYA|2.5|         2026|\n",
            "|  6481305|   SUTTIKARN|2.5|         2026|\n",
            "|  6481322|        MARK|3.0|         2026|\n",
            "|  6481324|   KARNDANAI|1.7|         2026|\n",
            "|  6481366|   CHINANARD|2.5|         2026|\n",
            "|  6580043|       PAKIN|2.5|         2027|\n",
            "+---------+------------+---+-------------+\n",
            "only showing top 20 rows\n",
            "\n"
          ]
        }
      ],
      "source": [
        "dataframe.show()"
      ]
    },
    {
      "cell_type": "markdown",
      "metadata": {
        "id": "lEvbr52wLDK-"
      },
      "source": [
        "Export back to csv"
      ]
    },
    {
      "cell_type": "code",
      "execution_count": 143,
      "metadata": {
        "id": "DyLIGAlWLC5q"
      },
      "outputs": [],
      "source": [
        "dataframe.write.csv('student_updated.csv',header = 'true')"
      ]
    }
  ],
  "metadata": {
    "colab": {
      "provenance": []
    },
    "kernelspec": {
      "display_name": "Python 3",
      "name": "python3"
    },
    "language_info": {
      "name": "python"
    }
  },
  "nbformat": 4,
  "nbformat_minor": 0
}
