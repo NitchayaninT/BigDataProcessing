{
  "cells": [
    {
      "cell_type": "code",
      "execution_count": null,
      "metadata": {
        "colab": {
          "base_uri": "https://localhost:8080/"
        },
        "id": "FAtJ8Jh_z-7t",
        "outputId": "a509feb3-9b46-4b0c-b5d1-bd3c9fab2ef2"
      },
      "outputs": [
        {
          "output_type": "stream",
          "name": "stdout",
          "text": [
            "Requirement already satisfied: pyspark in /usr/local/lib/python3.11/dist-packages (3.5.1)\n",
            "Requirement already satisfied: py4j==0.10.9.7 in /usr/local/lib/python3.11/dist-packages (from pyspark) (0.10.9.7)\n",
            "Collecting findspark\n",
            "  Downloading findspark-2.0.1-py2.py3-none-any.whl.metadata (352 bytes)\n",
            "Downloading findspark-2.0.1-py2.py3-none-any.whl (4.4 kB)\n",
            "Installing collected packages: findspark\n",
            "Successfully installed findspark-2.0.1\n"
          ]
        }
      ],
      "source": [
        "# Installing required packages\n",
        "!pip install pyspark\n",
        "!pip install findspark"
      ]
    },
    {
      "cell_type": "code",
      "execution_count": null,
      "metadata": {
        "id": "e34Q4qnfz-y8"
      },
      "outputs": [],
      "source": [
        "from pyspark import SparkContext, SparkConf\n",
        "from pyspark.sql import SparkSession"
      ]
    },
    {
      "cell_type": "markdown",
      "metadata": {
        "id": "8axg4DFh06SW"
      },
      "source": []
    },
    {
      "cell_type": "code",
      "execution_count": null,
      "metadata": {
        "collapsed": true,
        "id": "sqOwMWgOwBGi"
      },
      "outputs": [],
      "source": [
        "from pyspark.sql import SQLContext"
      ]
    },
    {
      "cell_type": "code",
      "execution_count": null,
      "metadata": {
        "id": "eCkhgiSsYqtX"
      },
      "outputs": [],
      "source": [
        "spark = SparkSession \\\n",
        "    .builder \\\n",
        "    .appName(\"ML_Regression_Example1\") \\\n",
        "    .getOrCreate()"
      ]
    },
    {
      "cell_type": "markdown",
      "metadata": {
        "id": "xDOcBO-rkuPB"
      },
      "source": [
        "# Create Spark Context"
      ]
    },
    {
      "cell_type": "code",
      "execution_count": null,
      "metadata": {
        "colab": {
          "base_uri": "https://localhost:8080/"
        },
        "collapsed": true,
        "id": "H0fnixykwBGl",
        "outputId": "432ef393-a002-4fdc-a61d-58ffffa08b3f"
      },
      "outputs": [
        {
          "output_type": "stream",
          "name": "stderr",
          "text": [
            "/usr/local/lib/python3.11/dist-packages/pyspark/sql/context.py:113: FutureWarning: Deprecated in 3.0.0. Use SparkSession.builder.getOrCreate() instead.\n",
            "  warnings.warn(\n"
          ]
        }
      ],
      "source": [
        "sc = spark.sparkContext\n",
        "\n",
        "\n",
        "sqlContext = SQLContext(sc)"
      ]
    },
    {
      "cell_type": "code",
      "execution_count": null,
      "metadata": {
        "colab": {
          "base_uri": "https://localhost:8080/",
          "height": 74
        },
        "id": "FWglhYsLwPL0",
        "outputId": "ac0d9d02-7e91-4c7e-e71c-257ac93e6fc0"
      },
      "outputs": [
        {
          "output_type": "display_data",
          "data": {
            "text/plain": [
              "<IPython.core.display.HTML object>"
            ],
            "text/html": [
              "\n",
              "     <input type=\"file\" id=\"files-c366fab9-0669-444c-abd1-b9050fc78fa2\" name=\"files[]\" multiple disabled\n",
              "        style=\"border:none\" />\n",
              "     <output id=\"result-c366fab9-0669-444c-abd1-b9050fc78fa2\">\n",
              "      Upload widget is only available when the cell has been executed in the\n",
              "      current browser session. Please rerun this cell to enable.\n",
              "      </output>\n",
              "      <script>// Copyright 2017 Google LLC\n",
              "//\n",
              "// Licensed under the Apache License, Version 2.0 (the \"License\");\n",
              "// you may not use this file except in compliance with the License.\n",
              "// You may obtain a copy of the License at\n",
              "//\n",
              "//      http://www.apache.org/licenses/LICENSE-2.0\n",
              "//\n",
              "// Unless required by applicable law or agreed to in writing, software\n",
              "// distributed under the License is distributed on an \"AS IS\" BASIS,\n",
              "// WITHOUT WARRANTIES OR CONDITIONS OF ANY KIND, either express or implied.\n",
              "// See the License for the specific language governing permissions and\n",
              "// limitations under the License.\n",
              "\n",
              "/**\n",
              " * @fileoverview Helpers for google.colab Python module.\n",
              " */\n",
              "(function(scope) {\n",
              "function span(text, styleAttributes = {}) {\n",
              "  const element = document.createElement('span');\n",
              "  element.textContent = text;\n",
              "  for (const key of Object.keys(styleAttributes)) {\n",
              "    element.style[key] = styleAttributes[key];\n",
              "  }\n",
              "  return element;\n",
              "}\n",
              "\n",
              "// Max number of bytes which will be uploaded at a time.\n",
              "const MAX_PAYLOAD_SIZE = 100 * 1024;\n",
              "\n",
              "function _uploadFiles(inputId, outputId) {\n",
              "  const steps = uploadFilesStep(inputId, outputId);\n",
              "  const outputElement = document.getElementById(outputId);\n",
              "  // Cache steps on the outputElement to make it available for the next call\n",
              "  // to uploadFilesContinue from Python.\n",
              "  outputElement.steps = steps;\n",
              "\n",
              "  return _uploadFilesContinue(outputId);\n",
              "}\n",
              "\n",
              "// This is roughly an async generator (not supported in the browser yet),\n",
              "// where there are multiple asynchronous steps and the Python side is going\n",
              "// to poll for completion of each step.\n",
              "// This uses a Promise to block the python side on completion of each step,\n",
              "// then passes the result of the previous step as the input to the next step.\n",
              "function _uploadFilesContinue(outputId) {\n",
              "  const outputElement = document.getElementById(outputId);\n",
              "  const steps = outputElement.steps;\n",
              "\n",
              "  const next = steps.next(outputElement.lastPromiseValue);\n",
              "  return Promise.resolve(next.value.promise).then((value) => {\n",
              "    // Cache the last promise value to make it available to the next\n",
              "    // step of the generator.\n",
              "    outputElement.lastPromiseValue = value;\n",
              "    return next.value.response;\n",
              "  });\n",
              "}\n",
              "\n",
              "/**\n",
              " * Generator function which is called between each async step of the upload\n",
              " * process.\n",
              " * @param {string} inputId Element ID of the input file picker element.\n",
              " * @param {string} outputId Element ID of the output display.\n",
              " * @return {!Iterable<!Object>} Iterable of next steps.\n",
              " */\n",
              "function* uploadFilesStep(inputId, outputId) {\n",
              "  const inputElement = document.getElementById(inputId);\n",
              "  inputElement.disabled = false;\n",
              "\n",
              "  const outputElement = document.getElementById(outputId);\n",
              "  outputElement.innerHTML = '';\n",
              "\n",
              "  const pickedPromise = new Promise((resolve) => {\n",
              "    inputElement.addEventListener('change', (e) => {\n",
              "      resolve(e.target.files);\n",
              "    });\n",
              "  });\n",
              "\n",
              "  const cancel = document.createElement('button');\n",
              "  inputElement.parentElement.appendChild(cancel);\n",
              "  cancel.textContent = 'Cancel upload';\n",
              "  const cancelPromise = new Promise((resolve) => {\n",
              "    cancel.onclick = () => {\n",
              "      resolve(null);\n",
              "    };\n",
              "  });\n",
              "\n",
              "  // Wait for the user to pick the files.\n",
              "  const files = yield {\n",
              "    promise: Promise.race([pickedPromise, cancelPromise]),\n",
              "    response: {\n",
              "      action: 'starting',\n",
              "    }\n",
              "  };\n",
              "\n",
              "  cancel.remove();\n",
              "\n",
              "  // Disable the input element since further picks are not allowed.\n",
              "  inputElement.disabled = true;\n",
              "\n",
              "  if (!files) {\n",
              "    return {\n",
              "      response: {\n",
              "        action: 'complete',\n",
              "      }\n",
              "    };\n",
              "  }\n",
              "\n",
              "  for (const file of files) {\n",
              "    const li = document.createElement('li');\n",
              "    li.append(span(file.name, {fontWeight: 'bold'}));\n",
              "    li.append(span(\n",
              "        `(${file.type || 'n/a'}) - ${file.size} bytes, ` +\n",
              "        `last modified: ${\n",
              "            file.lastModifiedDate ? file.lastModifiedDate.toLocaleDateString() :\n",
              "                                    'n/a'} - `));\n",
              "    const percent = span('0% done');\n",
              "    li.appendChild(percent);\n",
              "\n",
              "    outputElement.appendChild(li);\n",
              "\n",
              "    const fileDataPromise = new Promise((resolve) => {\n",
              "      const reader = new FileReader();\n",
              "      reader.onload = (e) => {\n",
              "        resolve(e.target.result);\n",
              "      };\n",
              "      reader.readAsArrayBuffer(file);\n",
              "    });\n",
              "    // Wait for the data to be ready.\n",
              "    let fileData = yield {\n",
              "      promise: fileDataPromise,\n",
              "      response: {\n",
              "        action: 'continue',\n",
              "      }\n",
              "    };\n",
              "\n",
              "    // Use a chunked sending to avoid message size limits. See b/62115660.\n",
              "    let position = 0;\n",
              "    do {\n",
              "      const length = Math.min(fileData.byteLength - position, MAX_PAYLOAD_SIZE);\n",
              "      const chunk = new Uint8Array(fileData, position, length);\n",
              "      position += length;\n",
              "\n",
              "      const base64 = btoa(String.fromCharCode.apply(null, chunk));\n",
              "      yield {\n",
              "        response: {\n",
              "          action: 'append',\n",
              "          file: file.name,\n",
              "          data: base64,\n",
              "        },\n",
              "      };\n",
              "\n",
              "      let percentDone = fileData.byteLength === 0 ?\n",
              "          100 :\n",
              "          Math.round((position / fileData.byteLength) * 100);\n",
              "      percent.textContent = `${percentDone}% done`;\n",
              "\n",
              "    } while (position < fileData.byteLength);\n",
              "  }\n",
              "\n",
              "  // All done.\n",
              "  yield {\n",
              "    response: {\n",
              "      action: 'complete',\n",
              "    }\n",
              "  };\n",
              "}\n",
              "\n",
              "scope.google = scope.google || {};\n",
              "scope.google.colab = scope.google.colab || {};\n",
              "scope.google.colab._files = {\n",
              "  _uploadFiles,\n",
              "  _uploadFilesContinue,\n",
              "};\n",
              "})(self);\n",
              "</script> "
            ]
          },
          "metadata": {}
        },
        {
          "output_type": "stream",
          "name": "stdout",
          "text": [
            "Saving daily_weather.csv to daily_weather (1).csv\n"
          ]
        }
      ],
      "source": [
        "from google.colab import files\n",
        "uploaded = files.upload()\n"
      ]
    },
    {
      "cell_type": "markdown",
      "metadata": {
        "id": "Ac8MHqWOkyvb"
      },
      "source": []
    },
    {
      "cell_type": "code",
      "execution_count": null,
      "metadata": {
        "collapsed": true,
        "id": "ZWAofGUswBGl"
      },
      "outputs": [],
      "source": [
        "file='daily_weather.csv'\n",
        "\n",
        "df = sqlContext.read.load(file,\n",
        "                          format='com.databricks.spark.csv',\n",
        "                          header='true',inferSchema='true')"
      ]
    },
    {
      "cell_type": "code",
      "source": [
        "df.printSchema()\n",
        "df.show()"
      ],
      "metadata": {
        "colab": {
          "base_uri": "https://localhost:8080/"
        },
        "id": "_OxkbEq0Pcnq",
        "outputId": "3ca62822-a22d-44c0-8f23-077b0b62f9a7"
      },
      "execution_count": null,
      "outputs": [
        {
          "output_type": "stream",
          "name": "stdout",
          "text": [
            "root\n",
            " |-- air_pressure_9am: double (nullable = true)\n",
            " |-- air_temp_9am: double (nullable = true)\n",
            " |-- avg_wind_direction_9am: double (nullable = true)\n",
            " |-- avg_wind_speed_9am: double (nullable = true)\n",
            " |-- max_wind_direction_9am: double (nullable = true)\n",
            " |-- max_wind_speed_9am: double (nullable = true)\n",
            " |-- rain_accumulation_9am: double (nullable = true)\n",
            " |-- rain_duration_9am: double (nullable = true)\n",
            " |-- relative_humidity_9am: double (nullable = true)\n",
            " |-- relative_humidity_3pm: double (nullable = true)\n",
            "\n",
            "+-----------------+------------------+----------------------+------------------+----------------------+------------------+---------------------+-----------------+---------------------+---------------------+\n",
            "| air_pressure_9am|      air_temp_9am|avg_wind_direction_9am|avg_wind_speed_9am|max_wind_direction_9am|max_wind_speed_9am|rain_accumulation_9am|rain_duration_9am|relative_humidity_9am|relative_humidity_3pm|\n",
            "+-----------------+------------------+----------------------+------------------+----------------------+------------------+---------------------+-----------------+---------------------+---------------------+\n",
            "|918.0600000000087| 74.82200000000041|                 271.1| 2.080354199999768|    295.39999999999986| 2.863283199999908|                  0.0|              0.0|    42.42000000000046|   36.160000000000494|\n",
            "|917.3476881177097| 71.40384263106537|    101.93517935618371|2.4430092157340217|    140.47154847112498|3.5333236016106238|                  0.0|              0.0|   24.328697291802207|     19.4265967985621|\n",
            "|923.0400000000084|60.637999999998776|    51.000000000000036|17.067852199999727|      63.6999999999999|22.100967200000003|                  0.0|             20.0|    8.900000000000047|   14.460000000000045|\n",
            "|920.5027511759195| 70.13889486830053|    198.83213271746368| 4.337363056162703|    211.20334124325618| 5.190045360219378|                  0.0|              0.0|   12.189101868764444|   12.742547353761848|\n",
            "|921.1600000000036| 44.29400000000284|                 277.8|1.8566601999998955|    136.49999999999991| 2.863283199999954|    8.899999999998613|          14730.0|    92.41000000000044|    76.74000000000046|\n",
            "| 915.300000000006| 78.40400000000422|                 182.8|  9.93201359999979|    188.99999999999986|10.983375399999995|  0.02000000000043656|            170.0|   35.130000000000265|   33.930000000000256|\n",
            "|915.5988675132801| 70.04330431686239|    177.87540718659943|3.7455865377244795|    186.60669587586753| 4.589632428699432|                  0.0|              0.0|   10.657421657822635|   21.385656725200974|\n",
            "|918.0700000000023|51.710000000002346|                 242.4| 2.527742199999939|     271.5999999999999|3.6462121999999924|                  0.0|              0.0|    80.47000000000041|    74.92000000000041|\n",
            "| 920.080000000006| 80.58200000000384|                  40.7| 4.518618799999764|     62.99999999999986| 5.883152199999977|                  0.0|              0.0|    29.58000000000045|   24.030000000000427|\n",
            "|915.0100000000116|  47.4979999999998|    163.10000000000005| 4.943637399999545|    195.89999999999992| 6.576603599999951|                  0.0|              0.0|     88.6000000000012|     68.0500000000012|\n",
            "| 919.650000000002|  77.0360000000015|                  70.6| 3.825167399999994|                  85.5| 4.764682199999966|                  0.0|              0.0|   22.070000000000228|    32.13000000000024|\n",
            "|915.6400000000099| 45.71599999999757|    241.60000000000005| 5.860782799999633|     265.7999999999999| 8.030614600000042|   0.5499999999999545|           1770.0|    90.56000000000022|     79.0900000000002|\n",
            "|917.3900000000112| 49.78399999999978|    204.10000000000005|1.2750557999995473|    211.79999999999993|  2.01324599999997|                  0.0|              0.0|     73.1500000000012|    58.43000000000119|\n",
            "|920.8200000000083| 62.43799999999798|    213.60000000000005|2.6172197999996376|     165.6999999999999| 3.310671200000037|                  0.0|              0.0|    43.64000000000018|   27.990000000000173|\n",
            "|911.0000000000076| 86.43199999999833|    202.90000000000003|1.2079475999998548|     162.8999999999999| 1.677704999999817|                  0.0|              0.0|   15.189999999999962|   24.369999999999948|\n",
            "|922.3831311993919| 70.86526349026626|    36.174174777424966|1.8472780842202248|     58.42863248830409| 2.529142073698898|                  0.0|              0.0|   12.110889335294598|   14.801705962979918|\n",
            "|916.9152553899988| 77.01896058080769|    234.53934498620535|   2.2747252969339|     229.4741986768941| 2.906513109197139|                  0.0|              0.0|   21.031461768790646|    20.75568332171184|\n",
            "|918.8000000000037| 67.08200000000228|                 176.1| 4.876529199999688|    183.39999999999984| 5.569980599999913|                  0.0|              0.0|    18.90000000000005|    45.87000000000005|\n",
            "|922.0400000000093|  68.5759999999986|     58.30000000000005|  9.55173379999966|      81.8999999999999|12.571602800000015|                  0.0|              0.0|    7.540000000000102|    7.740000000000088|\n",
            "|919.9922621762736| 62.96438311633252|    54.799093615358096|12.680435740203539|     74.25422348610172|15.452305806183404|                  0.0|              0.0|   18.809517856636536|   14.649909361535952|\n",
            "+-----------------+------------------+----------------------+------------------+----------------------+------------------+---------------------+-----------------+---------------------+---------------------+\n",
            "only showing top 20 rows\n",
            "\n"
          ]
        }
      ]
    },
    {
      "cell_type": "code",
      "execution_count": null,
      "metadata": {
        "id": "YeX5KsGXwBGm",
        "colab": {
          "base_uri": "https://localhost:8080/"
        },
        "outputId": "d842359c-06ea-447d-eb82-fb47cd3e42cf"
      },
      "outputs": [
        {
          "output_type": "execute_result",
          "data": {
            "text/plain": [
              "['number',\n",
              " 'air_pressure_9am',\n",
              " 'air_temp_9am',\n",
              " 'avg_wind_direction_9am',\n",
              " 'avg_wind_speed_9am',\n",
              " 'max_wind_direction_9am',\n",
              " 'max_wind_speed_9am',\n",
              " 'rain_accumulation_9am',\n",
              " 'rain_duration_9am',\n",
              " 'relative_humidity_9am',\n",
              " 'relative_humidity_3pm']"
            ]
          },
          "metadata": {},
          "execution_count": 8
        }
      ],
      "source": [
        "df.columns"
      ]
    },
    {
      "cell_type": "code",
      "execution_count": null,
      "metadata": {
        "id": "-vjXANWwwBGm",
        "colab": {
          "base_uri": "https://localhost:8080/"
        },
        "outputId": "dc091f6a-5fed-478f-fcf2-a1702ea2c2eb"
      },
      "outputs": [
        {
          "output_type": "stream",
          "name": "stdout",
          "text": [
            "root\n",
            " |-- number: integer (nullable = true)\n",
            " |-- air_pressure_9am: double (nullable = true)\n",
            " |-- air_temp_9am: double (nullable = true)\n",
            " |-- avg_wind_direction_9am: double (nullable = true)\n",
            " |-- avg_wind_speed_9am: double (nullable = true)\n",
            " |-- max_wind_direction_9am: double (nullable = true)\n",
            " |-- max_wind_speed_9am: double (nullable = true)\n",
            " |-- rain_accumulation_9am: double (nullable = true)\n",
            " |-- rain_duration_9am: double (nullable = true)\n",
            " |-- relative_humidity_9am: double (nullable = true)\n",
            " |-- relative_humidity_3pm: double (nullable = true)\n",
            "\n"
          ]
        }
      ],
      "source": [
        "df.printSchema()"
      ]
    },
    {
      "cell_type": "code",
      "execution_count": null,
      "metadata": {
        "id": "3WM1mgbBwBGn",
        "colab": {
          "base_uri": "https://localhost:8080/",
          "height": 426
        },
        "outputId": "35126858-4382-4e0c-a35f-10862cd0588f"
      },
      "outputs": [
        {
          "output_type": "execute_result",
          "data": {
            "text/plain": [
              "                            0                    1                   2  \\\n",
              "summary                 count                 mean              stddev   \n",
              "number                   1095                547.0  316.24357700987383   \n",
              "air_pressure_9am         1092    918.8825513138094   3.184161180386833   \n",
              "air_temp_9am             1090    64.93300141287072  11.175514003175877   \n",
              "avg_wind_direction_9am   1091    142.2355107005759   69.13785928889189   \n",
              "avg_wind_speed_9am       1092     5.50828424225493  4.5528134655317185   \n",
              "max_wind_direction_9am   1092   148.95351796516923   67.23801294602953   \n",
              "max_wind_speed_9am       1091    7.019513529175272   5.598209170780958   \n",
              "rain_accumulation_9am    1089  0.20307895225211126  1.5939521253574893   \n",
              "rain_duration_9am        1092    294.1080522756142  1598.0787786601481   \n",
              "relative_humidity_9am    1095    34.24140205923536  25.472066802250055   \n",
              "relative_humidity_3pm    1095    35.34472714825898  22.524079453587273   \n",
              "\n",
              "                                         3                   4  \n",
              "summary                                min                 max  \n",
              "number                                   0                1094  \n",
              "air_pressure_9am         907.9900000000024   929.3200000000012  \n",
              "air_temp_9am            36.752000000000685   98.90599999999992  \n",
              "avg_wind_direction_9am  15.500000000000046               343.4  \n",
              "avg_wind_speed_9am        0.69345139999974  23.554978199999763  \n",
              "max_wind_direction_9am   28.89999999999991  312.19999999999993  \n",
              "max_wind_speed_9am      1.1855782000000479   29.84077959999996  \n",
              "rain_accumulation_9am                  0.0   24.01999999999907  \n",
              "rain_duration_9am                      0.0             17704.0  \n",
              "relative_humidity_9am    6.090000000001012    92.6200000000002  \n",
              "relative_humidity_3pm   5.3000000000006855    92.2500000000003  "
            ],
            "text/html": [
              "\n",
              "  <div id=\"df-2d7696e8-80a7-466b-b609-ba32dc544707\" class=\"colab-df-container\">\n",
              "    <div>\n",
              "<style scoped>\n",
              "    .dataframe tbody tr th:only-of-type {\n",
              "        vertical-align: middle;\n",
              "    }\n",
              "\n",
              "    .dataframe tbody tr th {\n",
              "        vertical-align: top;\n",
              "    }\n",
              "\n",
              "    .dataframe thead th {\n",
              "        text-align: right;\n",
              "    }\n",
              "</style>\n",
              "<table border=\"1\" class=\"dataframe\">\n",
              "  <thead>\n",
              "    <tr style=\"text-align: right;\">\n",
              "      <th></th>\n",
              "      <th>0</th>\n",
              "      <th>1</th>\n",
              "      <th>2</th>\n",
              "      <th>3</th>\n",
              "      <th>4</th>\n",
              "    </tr>\n",
              "  </thead>\n",
              "  <tbody>\n",
              "    <tr>\n",
              "      <th>summary</th>\n",
              "      <td>count</td>\n",
              "      <td>mean</td>\n",
              "      <td>stddev</td>\n",
              "      <td>min</td>\n",
              "      <td>max</td>\n",
              "    </tr>\n",
              "    <tr>\n",
              "      <th>number</th>\n",
              "      <td>1095</td>\n",
              "      <td>547.0</td>\n",
              "      <td>316.24357700987383</td>\n",
              "      <td>0</td>\n",
              "      <td>1094</td>\n",
              "    </tr>\n",
              "    <tr>\n",
              "      <th>air_pressure_9am</th>\n",
              "      <td>1092</td>\n",
              "      <td>918.8825513138094</td>\n",
              "      <td>3.184161180386833</td>\n",
              "      <td>907.9900000000024</td>\n",
              "      <td>929.3200000000012</td>\n",
              "    </tr>\n",
              "    <tr>\n",
              "      <th>air_temp_9am</th>\n",
              "      <td>1090</td>\n",
              "      <td>64.93300141287072</td>\n",
              "      <td>11.175514003175877</td>\n",
              "      <td>36.752000000000685</td>\n",
              "      <td>98.90599999999992</td>\n",
              "    </tr>\n",
              "    <tr>\n",
              "      <th>avg_wind_direction_9am</th>\n",
              "      <td>1091</td>\n",
              "      <td>142.2355107005759</td>\n",
              "      <td>69.13785928889189</td>\n",
              "      <td>15.500000000000046</td>\n",
              "      <td>343.4</td>\n",
              "    </tr>\n",
              "    <tr>\n",
              "      <th>avg_wind_speed_9am</th>\n",
              "      <td>1092</td>\n",
              "      <td>5.50828424225493</td>\n",
              "      <td>4.5528134655317185</td>\n",
              "      <td>0.69345139999974</td>\n",
              "      <td>23.554978199999763</td>\n",
              "    </tr>\n",
              "    <tr>\n",
              "      <th>max_wind_direction_9am</th>\n",
              "      <td>1092</td>\n",
              "      <td>148.95351796516923</td>\n",
              "      <td>67.23801294602953</td>\n",
              "      <td>28.89999999999991</td>\n",
              "      <td>312.19999999999993</td>\n",
              "    </tr>\n",
              "    <tr>\n",
              "      <th>max_wind_speed_9am</th>\n",
              "      <td>1091</td>\n",
              "      <td>7.019513529175272</td>\n",
              "      <td>5.598209170780958</td>\n",
              "      <td>1.1855782000000479</td>\n",
              "      <td>29.84077959999996</td>\n",
              "    </tr>\n",
              "    <tr>\n",
              "      <th>rain_accumulation_9am</th>\n",
              "      <td>1089</td>\n",
              "      <td>0.20307895225211126</td>\n",
              "      <td>1.5939521253574893</td>\n",
              "      <td>0.0</td>\n",
              "      <td>24.01999999999907</td>\n",
              "    </tr>\n",
              "    <tr>\n",
              "      <th>rain_duration_9am</th>\n",
              "      <td>1092</td>\n",
              "      <td>294.1080522756142</td>\n",
              "      <td>1598.0787786601481</td>\n",
              "      <td>0.0</td>\n",
              "      <td>17704.0</td>\n",
              "    </tr>\n",
              "    <tr>\n",
              "      <th>relative_humidity_9am</th>\n",
              "      <td>1095</td>\n",
              "      <td>34.24140205923536</td>\n",
              "      <td>25.472066802250055</td>\n",
              "      <td>6.090000000001012</td>\n",
              "      <td>92.6200000000002</td>\n",
              "    </tr>\n",
              "    <tr>\n",
              "      <th>relative_humidity_3pm</th>\n",
              "      <td>1095</td>\n",
              "      <td>35.34472714825898</td>\n",
              "      <td>22.524079453587273</td>\n",
              "      <td>5.3000000000006855</td>\n",
              "      <td>92.2500000000003</td>\n",
              "    </tr>\n",
              "  </tbody>\n",
              "</table>\n",
              "</div>\n",
              "    <div class=\"colab-df-buttons\">\n",
              "\n",
              "  <div class=\"colab-df-container\">\n",
              "    <button class=\"colab-df-convert\" onclick=\"convertToInteractive('df-2d7696e8-80a7-466b-b609-ba32dc544707')\"\n",
              "            title=\"Convert this dataframe to an interactive table.\"\n",
              "            style=\"display:none;\">\n",
              "\n",
              "  <svg xmlns=\"http://www.w3.org/2000/svg\" height=\"24px\" viewBox=\"0 -960 960 960\">\n",
              "    <path d=\"M120-120v-720h720v720H120Zm60-500h600v-160H180v160Zm220 220h160v-160H400v160Zm0 220h160v-160H400v160ZM180-400h160v-160H180v160Zm440 0h160v-160H620v160ZM180-180h160v-160H180v160Zm440 0h160v-160H620v160Z\"/>\n",
              "  </svg>\n",
              "    </button>\n",
              "\n",
              "  <style>\n",
              "    .colab-df-container {\n",
              "      display:flex;\n",
              "      gap: 12px;\n",
              "    }\n",
              "\n",
              "    .colab-df-convert {\n",
              "      background-color: #E8F0FE;\n",
              "      border: none;\n",
              "      border-radius: 50%;\n",
              "      cursor: pointer;\n",
              "      display: none;\n",
              "      fill: #1967D2;\n",
              "      height: 32px;\n",
              "      padding: 0 0 0 0;\n",
              "      width: 32px;\n",
              "    }\n",
              "\n",
              "    .colab-df-convert:hover {\n",
              "      background-color: #E2EBFA;\n",
              "      box-shadow: 0px 1px 2px rgba(60, 64, 67, 0.3), 0px 1px 3px 1px rgba(60, 64, 67, 0.15);\n",
              "      fill: #174EA6;\n",
              "    }\n",
              "\n",
              "    .colab-df-buttons div {\n",
              "      margin-bottom: 4px;\n",
              "    }\n",
              "\n",
              "    [theme=dark] .colab-df-convert {\n",
              "      background-color: #3B4455;\n",
              "      fill: #D2E3FC;\n",
              "    }\n",
              "\n",
              "    [theme=dark] .colab-df-convert:hover {\n",
              "      background-color: #434B5C;\n",
              "      box-shadow: 0px 1px 3px 1px rgba(0, 0, 0, 0.15);\n",
              "      filter: drop-shadow(0px 1px 2px rgba(0, 0, 0, 0.3));\n",
              "      fill: #FFFFFF;\n",
              "    }\n",
              "  </style>\n",
              "\n",
              "    <script>\n",
              "      const buttonEl =\n",
              "        document.querySelector('#df-2d7696e8-80a7-466b-b609-ba32dc544707 button.colab-df-convert');\n",
              "      buttonEl.style.display =\n",
              "        google.colab.kernel.accessAllowed ? 'block' : 'none';\n",
              "\n",
              "      async function convertToInteractive(key) {\n",
              "        const element = document.querySelector('#df-2d7696e8-80a7-466b-b609-ba32dc544707');\n",
              "        const dataTable =\n",
              "          await google.colab.kernel.invokeFunction('convertToInteractive',\n",
              "                                                    [key], {});\n",
              "        if (!dataTable) return;\n",
              "\n",
              "        const docLinkHtml = 'Like what you see? Visit the ' +\n",
              "          '<a target=\"_blank\" href=https://colab.research.google.com/notebooks/data_table.ipynb>data table notebook</a>'\n",
              "          + ' to learn more about interactive tables.';\n",
              "        element.innerHTML = '';\n",
              "        dataTable['output_type'] = 'display_data';\n",
              "        await google.colab.output.renderOutput(dataTable, element);\n",
              "        const docLink = document.createElement('div');\n",
              "        docLink.innerHTML = docLinkHtml;\n",
              "        element.appendChild(docLink);\n",
              "      }\n",
              "    </script>\n",
              "  </div>\n",
              "\n",
              "\n",
              "    <div id=\"df-9153c648-ca92-42ac-8bf3-2396802a984a\">\n",
              "      <button class=\"colab-df-quickchart\" onclick=\"quickchart('df-9153c648-ca92-42ac-8bf3-2396802a984a')\"\n",
              "                title=\"Suggest charts\"\n",
              "                style=\"display:none;\">\n",
              "\n",
              "<svg xmlns=\"http://www.w3.org/2000/svg\" height=\"24px\"viewBox=\"0 0 24 24\"\n",
              "     width=\"24px\">\n",
              "    <g>\n",
              "        <path d=\"M19 3H5c-1.1 0-2 .9-2 2v14c0 1.1.9 2 2 2h14c1.1 0 2-.9 2-2V5c0-1.1-.9-2-2-2zM9 17H7v-7h2v7zm4 0h-2V7h2v10zm4 0h-2v-4h2v4z\"/>\n",
              "    </g>\n",
              "</svg>\n",
              "      </button>\n",
              "\n",
              "<style>\n",
              "  .colab-df-quickchart {\n",
              "      --bg-color: #E8F0FE;\n",
              "      --fill-color: #1967D2;\n",
              "      --hover-bg-color: #E2EBFA;\n",
              "      --hover-fill-color: #174EA6;\n",
              "      --disabled-fill-color: #AAA;\n",
              "      --disabled-bg-color: #DDD;\n",
              "  }\n",
              "\n",
              "  [theme=dark] .colab-df-quickchart {\n",
              "      --bg-color: #3B4455;\n",
              "      --fill-color: #D2E3FC;\n",
              "      --hover-bg-color: #434B5C;\n",
              "      --hover-fill-color: #FFFFFF;\n",
              "      --disabled-bg-color: #3B4455;\n",
              "      --disabled-fill-color: #666;\n",
              "  }\n",
              "\n",
              "  .colab-df-quickchart {\n",
              "    background-color: var(--bg-color);\n",
              "    border: none;\n",
              "    border-radius: 50%;\n",
              "    cursor: pointer;\n",
              "    display: none;\n",
              "    fill: var(--fill-color);\n",
              "    height: 32px;\n",
              "    padding: 0;\n",
              "    width: 32px;\n",
              "  }\n",
              "\n",
              "  .colab-df-quickchart:hover {\n",
              "    background-color: var(--hover-bg-color);\n",
              "    box-shadow: 0 1px 2px rgba(60, 64, 67, 0.3), 0 1px 3px 1px rgba(60, 64, 67, 0.15);\n",
              "    fill: var(--button-hover-fill-color);\n",
              "  }\n",
              "\n",
              "  .colab-df-quickchart-complete:disabled,\n",
              "  .colab-df-quickchart-complete:disabled:hover {\n",
              "    background-color: var(--disabled-bg-color);\n",
              "    fill: var(--disabled-fill-color);\n",
              "    box-shadow: none;\n",
              "  }\n",
              "\n",
              "  .colab-df-spinner {\n",
              "    border: 2px solid var(--fill-color);\n",
              "    border-color: transparent;\n",
              "    border-bottom-color: var(--fill-color);\n",
              "    animation:\n",
              "      spin 1s steps(1) infinite;\n",
              "  }\n",
              "\n",
              "  @keyframes spin {\n",
              "    0% {\n",
              "      border-color: transparent;\n",
              "      border-bottom-color: var(--fill-color);\n",
              "      border-left-color: var(--fill-color);\n",
              "    }\n",
              "    20% {\n",
              "      border-color: transparent;\n",
              "      border-left-color: var(--fill-color);\n",
              "      border-top-color: var(--fill-color);\n",
              "    }\n",
              "    30% {\n",
              "      border-color: transparent;\n",
              "      border-left-color: var(--fill-color);\n",
              "      border-top-color: var(--fill-color);\n",
              "      border-right-color: var(--fill-color);\n",
              "    }\n",
              "    40% {\n",
              "      border-color: transparent;\n",
              "      border-right-color: var(--fill-color);\n",
              "      border-top-color: var(--fill-color);\n",
              "    }\n",
              "    60% {\n",
              "      border-color: transparent;\n",
              "      border-right-color: var(--fill-color);\n",
              "    }\n",
              "    80% {\n",
              "      border-color: transparent;\n",
              "      border-right-color: var(--fill-color);\n",
              "      border-bottom-color: var(--fill-color);\n",
              "    }\n",
              "    90% {\n",
              "      border-color: transparent;\n",
              "      border-bottom-color: var(--fill-color);\n",
              "    }\n",
              "  }\n",
              "</style>\n",
              "\n",
              "      <script>\n",
              "        async function quickchart(key) {\n",
              "          const quickchartButtonEl =\n",
              "            document.querySelector('#' + key + ' button');\n",
              "          quickchartButtonEl.disabled = true;  // To prevent multiple clicks.\n",
              "          quickchartButtonEl.classList.add('colab-df-spinner');\n",
              "          try {\n",
              "            const charts = await google.colab.kernel.invokeFunction(\n",
              "                'suggestCharts', [key], {});\n",
              "          } catch (error) {\n",
              "            console.error('Error during call to suggestCharts:', error);\n",
              "          }\n",
              "          quickchartButtonEl.classList.remove('colab-df-spinner');\n",
              "          quickchartButtonEl.classList.add('colab-df-quickchart-complete');\n",
              "        }\n",
              "        (() => {\n",
              "          let quickchartButtonEl =\n",
              "            document.querySelector('#df-9153c648-ca92-42ac-8bf3-2396802a984a button');\n",
              "          quickchartButtonEl.style.display =\n",
              "            google.colab.kernel.accessAllowed ? 'block' : 'none';\n",
              "        })();\n",
              "      </script>\n",
              "    </div>\n",
              "\n",
              "    </div>\n",
              "  </div>\n"
            ],
            "application/vnd.google.colaboratory.intrinsic+json": {
              "type": "dataframe",
              "summary": "{\n  \"name\": \"df\",\n  \"rows\": 12,\n  \"fields\": [\n    {\n      \"column\": 0,\n      \"properties\": {\n        \"dtype\": \"string\",\n        \"num_unique_values\": 6,\n        \"samples\": [\n          \"count\",\n          \"1095\",\n          \"1089\"\n        ],\n        \"semantic_type\": \"\",\n        \"description\": \"\"\n      }\n    },\n    {\n      \"column\": 1,\n      \"properties\": {\n        \"dtype\": \"string\",\n        \"num_unique_values\": 12,\n        \"samples\": [\n          \"34.24140205923536\",\n          \"294.1080522756142\",\n          \"mean\"\n        ],\n        \"semantic_type\": \"\",\n        \"description\": \"\"\n      }\n    },\n    {\n      \"column\": 2,\n      \"properties\": {\n        \"dtype\": \"string\",\n        \"num_unique_values\": 12,\n        \"samples\": [\n          \"25.472066802250055\",\n          \"1598.0787786601481\",\n          \"stddev\"\n        ],\n        \"semantic_type\": \"\",\n        \"description\": \"\"\n      }\n    },\n    {\n      \"column\": 3,\n      \"properties\": {\n        \"dtype\": \"string\",\n        \"num_unique_values\": 11,\n        \"samples\": [\n          \"0.69345139999974\",\n          \"min\",\n          \"6.090000000001012\"\n        ],\n        \"semantic_type\": \"\",\n        \"description\": \"\"\n      }\n    },\n    {\n      \"column\": 4,\n      \"properties\": {\n        \"dtype\": \"string\",\n        \"num_unique_values\": 12,\n        \"samples\": [\n          \"92.6200000000002\",\n          \"17704.0\",\n          \"max\"\n        ],\n        \"semantic_type\": \"\",\n        \"description\": \"\"\n      }\n    }\n  ]\n}"
            }
          },
          "metadata": {},
          "execution_count": 9
        }
      ],
      "source": [
        "df.describe().toPandas().transpose()"
      ]
    },
    {
      "cell_type": "code",
      "execution_count": null,
      "metadata": {
        "id": "mf3GVJenwBGn",
        "colab": {
          "base_uri": "https://localhost:8080/"
        },
        "outputId": "005aaef8-099c-422d-c846-bee5aed7b244"
      },
      "outputs": [
        {
          "output_type": "stream",
          "name": "stdout",
          "text": [
            "+-------+-----------------+\n",
            "|summary| air_pressure_9am|\n",
            "+-------+-----------------+\n",
            "|  count|             1092|\n",
            "|   mean|918.8825513138094|\n",
            "| stddev|3.184161180386833|\n",
            "|    min|907.9900000000024|\n",
            "|    max|929.3200000000012|\n",
            "+-------+-----------------+\n",
            "\n"
          ]
        }
      ],
      "source": [
        "df.describe('air_pressure_9am').show()"
      ]
    },
    {
      "cell_type": "code",
      "execution_count": null,
      "metadata": {
        "id": "lfonE2o8wBGo",
        "colab": {
          "base_uri": "https://localhost:8080/"
        },
        "outputId": "d948be5d-ab54-4cbc-fe58-b5590b111158"
      },
      "outputs": [
        {
          "output_type": "execute_result",
          "data": {
            "text/plain": [
              "11"
            ]
          },
          "metadata": {},
          "execution_count": 11
        }
      ],
      "source": [
        "len(df.columns)"
      ]
    },
    {
      "cell_type": "code",
      "execution_count": null,
      "metadata": {
        "id": "FftXD3KOwBGo",
        "colab": {
          "base_uri": "https://localhost:8080/"
        },
        "outputId": "c82f9600-ad5f-481d-b7be-9709c99dbeb3"
      },
      "outputs": [
        {
          "output_type": "execute_result",
          "data": {
            "text/plain": [
              "1095"
            ]
          },
          "metadata": {},
          "execution_count": 12
        }
      ],
      "source": [
        "df.count()"
      ]
    },
    {
      "cell_type": "code",
      "execution_count": null,
      "metadata": {
        "collapsed": true,
        "id": "5-RpzxWlwBGo"
      },
      "outputs": [],
      "source": [
        "df2 = df.na.drop(subset=['air_pressure_9am'])"
      ]
    },
    {
      "cell_type": "code",
      "execution_count": null,
      "metadata": {
        "id": "WSmrMMjFwBGp",
        "colab": {
          "base_uri": "https://localhost:8080/"
        },
        "outputId": "05d85f9b-364c-45d9-b4f4-b77de3dd7a8c"
      },
      "outputs": [
        {
          "output_type": "execute_result",
          "data": {
            "text/plain": [
              "1092"
            ]
          },
          "metadata": {},
          "execution_count": 14
        }
      ],
      "source": [
        "df2.count()"
      ]
    },
    {
      "cell_type": "code",
      "execution_count": null,
      "metadata": {
        "id": "yyp3pn-1wBGp",
        "colab": {
          "base_uri": "https://localhost:8080/"
        },
        "outputId": "f2930a8c-fb39-4caf-dcb2-1f73f58c9716"
      },
      "outputs": [
        {
          "output_type": "execute_result",
          "data": {
            "text/plain": [
              "0.7298253479609021"
            ]
          },
          "metadata": {},
          "execution_count": 16
        }
      ],
      "source": [
        "df2.stat.corr(\"rain_accumulation_9am\", \"rain_duration_9am\")"
      ]
    },
    {
      "cell_type": "markdown",
      "metadata": {
        "id": "HmX1U1HX2i3n"
      },
      "source": [
        "#  Regression"
      ]
    },
    {
      "cell_type": "code",
      "execution_count": null,
      "metadata": {
        "id": "ElV2ZP113G1R"
      },
      "outputs": [],
      "source": [
        "from pyspark.sql import DataFrameNaFunctions\n",
        "from pyspark.ml.feature import VectorAssembler"
      ]
    },
    {
      "cell_type": "code",
      "execution_count": null,
      "metadata": {
        "id": "sh5Qm70Gggxu",
        "colab": {
          "base_uri": "https://localhost:8080/"
        },
        "outputId": "873ee60e-c8a5-4247-b4e1-06a3e4ba72e4"
      },
      "outputs": [
        {
          "output_type": "execute_result",
          "data": {
            "text/plain": [
              "(1095, 11)"
            ]
          },
          "metadata": {},
          "execution_count": 19
        }
      ],
      "source": [
        "df.count(), len(df.columns)"
      ]
    },
    {
      "cell_type": "markdown",
      "source": [
        "drop number column"
      ],
      "metadata": {
        "id": "tJdP6w6CRAzd"
      }
    },
    {
      "cell_type": "code",
      "execution_count": null,
      "metadata": {
        "id": "xCqzI9cR73op"
      },
      "outputs": [],
      "source": [
        "df = df.drop('number')"
      ]
    },
    {
      "cell_type": "code",
      "execution_count": null,
      "metadata": {
        "id": "xuivl2G17508"
      },
      "outputs": [],
      "source": [
        "df = df.na.drop()"
      ]
    },
    {
      "cell_type": "code",
      "execution_count": null,
      "metadata": {
        "id": "_MJ0-zvTUevF",
        "colab": {
          "base_uri": "https://localhost:8080/"
        },
        "outputId": "36c8e2a4-0882-4616-accc-e05c90adea2c"
      },
      "outputs": [
        {
          "output_type": "execute_result",
          "data": {
            "text/plain": [
              "(1064, 10)"
            ]
          },
          "metadata": {},
          "execution_count": 26
        }
      ],
      "source": [
        "df.count(), len(df.columns)"
      ]
    },
    {
      "cell_type": "code",
      "execution_count": null,
      "metadata": {
        "id": "bS6X46ZgVHAo",
        "colab": {
          "base_uri": "https://localhost:8080/"
        },
        "outputId": "9ac9b43d-7c7e-4a90-d6e3-cb4d3bfb1ca6"
      },
      "outputs": [
        {
          "output_type": "execute_result",
          "data": {
            "text/plain": [
              "['air_pressure_9am',\n",
              " 'air_temp_9am',\n",
              " 'avg_wind_direction_9am',\n",
              " 'avg_wind_speed_9am',\n",
              " 'max_wind_direction_9am',\n",
              " 'max_wind_speed_9am',\n",
              " 'rain_accumulation_9am',\n",
              " 'rain_duration_9am',\n",
              " 'relative_humidity_9am',\n",
              " 'relative_humidity_3pm']"
            ]
          },
          "metadata": {},
          "execution_count": 64
        }
      ],
      "source": [
        "df.columns"
      ]
    },
    {
      "cell_type": "code",
      "execution_count": null,
      "metadata": {
        "id": "ktPd8SpG76hy"
      },
      "outputs": [],
      "source": [
        "#featureColumns =df.columns[:-2]\n",
        "featureColumns = ['air_pressure_9am','max_wind_speed_9am','max_wind_direction_9am']"
      ]
    },
    {
      "cell_type": "code",
      "execution_count": null,
      "metadata": {
        "id": "x6Q7g9314jBt",
        "colab": {
          "base_uri": "https://localhost:8080/"
        },
        "outputId": "3f0d5dfd-bbbe-43ac-dedf-3868def04982"
      },
      "outputs": [
        {
          "output_type": "execute_result",
          "data": {
            "text/plain": [
              "['air_pressure_9am', 'max_wind_speed_9am', 'max_wind_direction_9am']"
            ]
          },
          "metadata": {},
          "execution_count": 75
        }
      ],
      "source": [
        "featureColumns"
      ]
    },
    {
      "cell_type": "markdown",
      "source": [
        "uses a single Vector to store the features instead of using 2 seperate columns"
      ],
      "metadata": {
        "id": "2YqUoNMdXhqi"
      }
    },
    {
      "cell_type": "code",
      "execution_count": null,
      "metadata": {
        "id": "FEm523ct2sab"
      },
      "outputs": [],
      "source": [
        "assembler = VectorAssembler(inputCols=featureColumns, outputCol=\"features\")\n",
        "assembled = assembler.transform(df)"
      ]
    },
    {
      "cell_type": "markdown",
      "source": [
        "feature : combine all columns together (vector column)"
      ],
      "metadata": {
        "id": "zGhLShgfSh82"
      }
    },
    {
      "cell_type": "code",
      "source": [
        "assembled.select(\"features\").show(truncate=False)"
      ],
      "metadata": {
        "colab": {
          "base_uri": "https://localhost:8080/"
        },
        "id": "DkkhPY6haQqt",
        "outputId": "12743d19-26c1-4fe4-fa68-806d2347da7f"
      },
      "execution_count": null,
      "outputs": [
        {
          "output_type": "stream",
          "name": "stdout",
          "text": [
            "+---------------------------------------------------------+\n",
            "|features                                                 |\n",
            "+---------------------------------------------------------+\n",
            "|[918.0600000000087,2.863283199999908,295.39999999999986] |\n",
            "|[917.3476881177097,3.5333236016106238,140.47154847112498]|\n",
            "|[923.0400000000084,22.100967200000003,63.6999999999999]  |\n",
            "|[920.5027511759195,5.190045360219378,211.20334124325618] |\n",
            "|[921.1600000000036,2.863283199999954,136.49999999999991] |\n",
            "|[915.300000000006,10.983375399999995,188.99999999999986] |\n",
            "|[915.5988675132801,4.589632428699432,186.60669587586753] |\n",
            "|[918.0700000000023,3.6462121999999924,271.5999999999999] |\n",
            "|[920.080000000006,5.883152199999977,62.99999999999986]   |\n",
            "|[915.0100000000116,6.576603599999951,195.89999999999992] |\n",
            "|[919.650000000002,4.764682199999966,85.5]                |\n",
            "|[915.6400000000099,8.030614600000042,265.7999999999999]  |\n",
            "|[917.3900000000112,2.01324599999997,211.79999999999993]  |\n",
            "|[920.8200000000083,3.310671200000037,165.6999999999999]  |\n",
            "|[911.0000000000076,1.677704999999817,162.8999999999999]  |\n",
            "|[922.3831311993919,2.529142073698898,58.42863248830409]  |\n",
            "|[916.9152553899988,2.906513109197139,229.4741986768941]  |\n",
            "|[918.8000000000037,5.569980599999913,183.39999999999984] |\n",
            "|[922.0400000000093,12.571602800000015,81.8999999999999]  |\n",
            "|[919.9922621762736,15.452305806183404,74.25422348610172] |\n",
            "+---------------------------------------------------------+\n",
            "only showing top 20 rows\n",
            "\n"
          ]
        }
      ]
    },
    {
      "cell_type": "code",
      "execution_count": null,
      "metadata": {
        "id": "sx7TeYw6VT3D",
        "colab": {
          "base_uri": "https://localhost:8080/"
        },
        "outputId": "0c0b5419-18fa-407d-9753-74ef55c44179"
      },
      "outputs": [
        {
          "output_type": "stream",
          "name": "stdout",
          "text": [
            "+-----------------+------------------+----------------------+------------------+----------------------+------------------+---------------------+-----------------+---------------------+---------------------+--------------------+\n",
            "| air_pressure_9am|      air_temp_9am|avg_wind_direction_9am|avg_wind_speed_9am|max_wind_direction_9am|max_wind_speed_9am|rain_accumulation_9am|rain_duration_9am|relative_humidity_9am|relative_humidity_3pm|            features|\n",
            "+-----------------+------------------+----------------------+------------------+----------------------+------------------+---------------------+-----------------+---------------------+---------------------+--------------------+\n",
            "|918.0600000000087| 74.82200000000041|                 271.1| 2.080354199999768|    295.39999999999986| 2.863283199999908|                  0.0|              0.0|    42.42000000000046|   36.160000000000494|[918.060000000008...|\n",
            "|917.3476881177097| 71.40384263106537|    101.93517935618371|2.4430092157340217|    140.47154847112498|3.5333236016106238|                  0.0|              0.0|   24.328697291802207|     19.4265967985621|[917.347688117709...|\n",
            "|923.0400000000084|60.637999999998776|    51.000000000000036|17.067852199999727|      63.6999999999999|22.100967200000003|                  0.0|             20.0|    8.900000000000047|   14.460000000000045|[923.040000000008...|\n",
            "|920.5027511759195| 70.13889486830053|    198.83213271746368| 4.337363056162703|    211.20334124325618| 5.190045360219378|                  0.0|              0.0|   12.189101868764444|   12.742547353761848|[920.502751175919...|\n",
            "|921.1600000000036| 44.29400000000284|                 277.8|1.8566601999998955|    136.49999999999991| 2.863283199999954|    8.899999999998613|          14730.0|    92.41000000000044|    76.74000000000046|[921.160000000003...|\n",
            "| 915.300000000006| 78.40400000000422|                 182.8|  9.93201359999979|    188.99999999999986|10.983375399999995|  0.02000000000043656|            170.0|   35.130000000000265|   33.930000000000256|[915.300000000006...|\n",
            "|915.5988675132801| 70.04330431686239|    177.87540718659943|3.7455865377244795|    186.60669587586753| 4.589632428699432|                  0.0|              0.0|   10.657421657822635|   21.385656725200974|[915.598867513280...|\n",
            "|918.0700000000023|51.710000000002346|                 242.4| 2.527742199999939|     271.5999999999999|3.6462121999999924|                  0.0|              0.0|    80.47000000000041|    74.92000000000041|[918.070000000002...|\n",
            "| 920.080000000006| 80.58200000000384|                  40.7| 4.518618799999764|     62.99999999999986| 5.883152199999977|                  0.0|              0.0|    29.58000000000045|   24.030000000000427|[920.080000000006...|\n",
            "|915.0100000000116|  47.4979999999998|    163.10000000000005| 4.943637399999545|    195.89999999999992| 6.576603599999951|                  0.0|              0.0|     88.6000000000012|     68.0500000000012|[915.010000000011...|\n",
            "+-----------------+------------------+----------------------+------------------+----------------------+------------------+---------------------+-----------------+---------------------+---------------------+--------------------+\n",
            "only showing top 10 rows\n",
            "\n"
          ]
        }
      ],
      "source": [
        "assembled.show(10)"
      ]
    },
    {
      "cell_type": "markdown",
      "source": [
        "Label : value that you want to predict (relative humidity 9am column) based on specified features."
      ],
      "metadata": {
        "id": "nhYcjhFAS8mW"
      }
    },
    {
      "cell_type": "code",
      "source": [
        "select_assembled=assembled.select(\"relative_humidity_9am\",\"features\")\n",
        "select_assembled=select_assembled.withColumnRenamed(\"relative_humidity_9am\",\"label\")"
      ],
      "metadata": {
        "id": "LfsZ6RKZbB9_"
      },
      "execution_count": null,
      "outputs": []
    },
    {
      "cell_type": "code",
      "source": [
        "select_assembled.show(10)"
      ],
      "metadata": {
        "colab": {
          "base_uri": "https://localhost:8080/"
        },
        "id": "v_X2ReFLTLR7",
        "outputId": "1a85fa97-67d4-45ad-da58-285b22726cda"
      },
      "execution_count": null,
      "outputs": [
        {
          "output_type": "stream",
          "name": "stdout",
          "text": [
            "+------------------+--------------------+\n",
            "|             label|            features|\n",
            "+------------------+--------------------+\n",
            "| 42.42000000000046|[918.060000000008...|\n",
            "|24.328697291802207|[917.347688117709...|\n",
            "| 8.900000000000047|[923.040000000008...|\n",
            "|12.189101868764444|[920.502751175919...|\n",
            "| 92.41000000000044|[921.160000000003...|\n",
            "|35.130000000000265|[915.300000000006...|\n",
            "|10.657421657822635|[915.598867513280...|\n",
            "| 80.47000000000041|[918.070000000002...|\n",
            "| 29.58000000000045|[920.080000000006...|\n",
            "|  88.6000000000012|[915.010000000011...|\n",
            "+------------------+--------------------+\n",
            "only showing top 10 rows\n",
            "\n"
          ]
        }
      ]
    },
    {
      "cell_type": "markdown",
      "source": [
        "Goal : to train the model to predict \"Relative Humidity 9am\" based on the other features. so that when we give it new feature values, it can predict the label."
      ],
      "metadata": {
        "id": "FC0SgQ5GYVZM"
      }
    },
    {
      "cell_type": "markdown",
      "source": [
        "Training data is the part of the dataset used to teach the model.\n",
        "\n",
        "Test data is the part you don't show the model during training — you use it to check how good the model is on new, unseen data."
      ],
      "metadata": {
        "id": "ANUxzVApZiyQ"
      }
    },
    {
      "cell_type": "code",
      "execution_count": null,
      "metadata": {
        "id": "TFmGmVU72tnv"
      },
      "outputs": [],
      "source": [
        "(trainData, testData) = select_assembled.randomSplit([0.8,0.2], seed = 13234 )"
      ]
    },
    {
      "cell_type": "code",
      "execution_count": null,
      "metadata": {
        "id": "gaZkw9Pi2uzu",
        "colab": {
          "base_uri": "https://localhost:8080/"
        },
        "outputId": "b780fc2f-4764-45b4-c176-20d9cf6f060b"
      },
      "outputs": [
        {
          "output_type": "execute_result",
          "data": {
            "text/plain": [
              "(846, 218)"
            ]
          },
          "metadata": {},
          "execution_count": 82
        }
      ],
      "source": [
        "trainData.count(),testData.count()"
      ]
    },
    {
      "cell_type": "code",
      "execution_count": null,
      "metadata": {
        "id": "Tm3VSlxNWCqf"
      },
      "outputs": [],
      "source": [
        "from pyspark.ml.regression import LinearRegression\n"
      ]
    },
    {
      "cell_type": "code",
      "execution_count": null,
      "metadata": {
        "id": "4X_NYmUzYr3y",
        "colab": {
          "base_uri": "https://localhost:8080/"
        },
        "outputId": "e3a9d16a-7858-4493-8b3b-fa2b70592222"
      },
      "outputs": [
        {
          "output_type": "stream",
          "name": "stdout",
          "text": [
            "+------------------+--------------------+\n",
            "|             label|            features|\n",
            "+------------------+--------------------+\n",
            "| 6.090000000001012|[917.610000000009...|\n",
            "| 6.290000000000094|[921.340000000008...|\n",
            "| 6.929473038978267|[920.802725848539...|\n",
            "|7.1300000000004005|[917.650000000007...|\n",
            "| 7.320000000000401|[924.720000000002...|\n",
            "| 7.370000000000948|[916.040000000011...|\n",
            "| 7.490000000000099|[922.69000000001,...|\n",
            "| 7.522056578279606|[922.273264482375...|\n",
            "| 7.540000000000102|[922.040000000009...|\n",
            "| 8.000000000001187|[920.400000000010...|\n",
            "| 8.040000000000013|[920.320000000003...|\n",
            "| 8.082800653859666|[922.928408958627...|\n",
            "| 8.300000000000079|[915.610000000004...|\n",
            "| 8.309953099773844|[922.902062345702...|\n",
            "| 8.471749805902828|[920.632354382020...|\n",
            "| 8.480000000001143|[919.500000000011...|\n",
            "| 8.498335363231277|[915.914435739919...|\n",
            "|  8.62000000000035|[921.220000000001...|\n",
            "| 8.679999999999879|[915.710000000005...|\n",
            "| 8.691746315441277|[918.846598183232...|\n",
            "+------------------+--------------------+\n",
            "only showing top 20 rows\n",
            "\n"
          ]
        }
      ],
      "source": [
        "trainData.show()"
      ]
    },
    {
      "cell_type": "code",
      "execution_count": null,
      "metadata": {
        "id": "AyEDur8n7EKW",
        "colab": {
          "base_uri": "https://localhost:8080/"
        },
        "outputId": "004cbb74-dadb-4d51-f31e-2ccadcb1dcb8"
      },
      "outputs": [
        {
          "output_type": "stream",
          "name": "stdout",
          "text": [
            "+------------------+--------------------+\n",
            "|             label|            features|\n",
            "+------------------+--------------------+\n",
            "| 7.810000000000022|[923.020000000008...|\n",
            "| 8.480000000001185|[919.700000000012...|\n",
            "| 8.596749101632177|[922.254438037558...|\n",
            "| 8.630765355780632|[922.593064124066...|\n",
            "| 8.730000000000341|[918.300000000002...|\n",
            "| 8.762945026170621|[921.211065935867...|\n",
            "|  9.35000000000058|[921.020000000003...|\n",
            "| 9.374424197076939|[919.477927109483...|\n",
            "| 9.690133679405253|[920.791124402495...|\n",
            "| 9.870100982481777|[922.221203584900...|\n",
            "|10.018302278003464|[919.576336622174...|\n",
            "|10.730000000000294|[920.020000000009...|\n",
            "|10.753680105260125|[922.573065432606...|\n",
            "|10.839536280499082|[918.694866756976...|\n",
            "| 10.93387416268179|[920.277416872081...|\n",
            "| 10.94000000000033|[922.600000000002...|\n",
            "|10.940916402259122|[923.394623971261...|\n",
            "|10.970000000000422|[923.780000000001...|\n",
            "| 11.22000000000008|[926.550000000009...|\n",
            "|11.279192121415758|[921.645839484382...|\n",
            "+------------------+--------------------+\n",
            "only showing top 20 rows\n",
            "\n"
          ]
        }
      ],
      "source": [
        "testData.show()"
      ]
    },
    {
      "cell_type": "code",
      "execution_count": null,
      "metadata": {
        "id": "sEogJ5JiaItX"
      },
      "outputs": [],
      "source": [
        "lr = LinearRegression()\n"
      ]
    },
    {
      "cell_type": "markdown",
      "source": [
        "train model"
      ],
      "metadata": {
        "id": "wi9aqhN0U8O2"
      }
    },
    {
      "cell_type": "code",
      "execution_count": null,
      "metadata": {
        "id": "ewFec9G6YDO9"
      },
      "outputs": [],
      "source": [
        "model1 = lr.fit(trainData)\n"
      ]
    },
    {
      "cell_type": "code",
      "execution_count": null,
      "metadata": {
        "id": "_Fr9J3yTVtWS",
        "colab": {
          "base_uri": "https://localhost:8080/"
        },
        "outputId": "10f400f2-225c-4f71-b5ec-a81d12885ccc"
      },
      "outputs": [
        {
          "output_type": "stream",
          "name": "stdout",
          "text": [
            "Coefficients: [-2.7961446567378982,0.3523476240817445,0.11223030704597362]\n",
            "Intercept: 2584.400215975838\n"
          ]
        }
      ],
      "source": [
        "print(\"Coefficients: %s\" % str(model1.coefficients))\n",
        "print(\"Intercept: %s\" % str(model1.intercept))"
      ]
    },
    {
      "cell_type": "code",
      "execution_count": null,
      "metadata": {
        "colab": {
          "base_uri": "https://localhost:8080/"
        },
        "id": "JSGbbU6iYANX",
        "outputId": "6f09e395-b0fc-476a-8c2a-62924ee7f658"
      },
      "outputs": [
        {
          "output_type": "stream",
          "name": "stdout",
          "text": [
            "numIterations: 0\n",
            "objectiveHistory: [0.0]\n",
            "+-------------------+\n",
            "|          residuals|\n",
            "+-------------------+\n",
            "|-21.715554454431228|\n",
            "|-19.709336572567604|\n",
            "|-20.337160212757773|\n",
            "| -19.43712423042296|\n",
            "| 2.5788591564326095|\n",
            "|-29.081860136735337|\n",
            "| -10.88846066687179|\n",
            "|-11.808979759986524|\n",
            "|-12.324233201744708|\n",
            "|-15.464168774641344|\n",
            "| -16.69305363582857|\n",
            "| -9.647140371717652|\n",
            "|-28.166007762757648|\n",
            "|  -22.5043393197247|\n",
            "|-14.987819256631855|\n",
            "|-21.859440936958677|\n",
            "|-27.165449064718118|\n",
            "| -17.03573551469844|\n",
            "|-30.230258042150083|\n",
            "|-29.069568420122422|\n",
            "+-------------------+\n",
            "only showing top 20 rows\n",
            "\n",
            "RMSE: 21.777495\n",
            "r2: 0.252604\n"
          ]
        }
      ],
      "source": [
        "trainingSummary = model1.summary\n",
        "print(\"numIterations: %d\" % trainingSummary.totalIterations)\n",
        "print(\"objectiveHistory: %s\" % str(trainingSummary.objectiveHistory))\n",
        "trainingSummary.residuals.show()\n",
        "print(\"RMSE: %f\" % trainingSummary.rootMeanSquaredError)\n",
        "print(\"r2: %f\" % trainingSummary.r2)"
      ]
    },
    {
      "cell_type": "markdown",
      "source": [
        "predict the model. make predictions on test data"
      ],
      "metadata": {
        "id": "RjLTPPOOU3XN"
      }
    },
    {
      "cell_type": "code",
      "execution_count": null,
      "metadata": {
        "id": "zCtPT2jfcP9Q"
      },
      "outputs": [],
      "source": [
        "predictions = model1.transform(testData)"
      ]
    },
    {
      "cell_type": "code",
      "execution_count": null,
      "metadata": {
        "colab": {
          "base_uri": "https://localhost:8080/"
        },
        "id": "n0-NxyHPcSzH",
        "outputId": "a0a4f7e1-c566-4fdd-bed0-c4e6fdf6d4ba"
      },
      "outputs": [
        {
          "output_type": "stream",
          "name": "stdout",
          "text": [
            "+------------------+--------------------+------------------+\n",
            "|             label|            features|        prediction|\n",
            "+------------------+--------------------+------------------+\n",
            "| 7.810000000000022|[923.020000000008...|30.545222286118133|\n",
            "| 8.480000000001185|[919.700000000012...| 36.55395074465514|\n",
            "| 8.596749101632177|[922.254438037558...| 32.59420369788813|\n",
            "| 8.630765355780632|[922.593064124066...|18.407987009486988|\n",
            "| 8.730000000000341|[918.300000000002...| 28.78914599893824|\n",
            "| 8.762945026170621|[921.211065935867...|25.432543681536572|\n",
            "|  9.35000000000058|[921.020000000003...| 19.51997082440812|\n",
            "| 9.374424197076939|[919.477927109483...|25.513216534817275|\n",
            "| 9.690133679405253|[920.791124402495...|26.662780632353588|\n",
            "| 9.870100982481777|[922.221203584900...|21.415939731176422|\n",
            "|10.018302278003464|[919.576336622174...|25.343134255295354|\n",
            "|10.730000000000294|[920.020000000009...| 37.63992095662343|\n",
            "|10.753680105260125|[922.573065432606...|21.527689856635334|\n",
            "|10.839536280499082|[918.694866756976...| 24.59841122666421|\n",
            "| 10.93387416268179|[920.277416872081...|36.904932254995856|\n",
            "| 10.94000000000033|[922.600000000002...| 27.61103128515333|\n",
            "|10.940916402259122|[923.394623971261...| 16.37218448644626|\n",
            "|10.970000000000422|[923.780000000001...| 23.44072239702291|\n",
            "| 11.22000000000008|[926.550000000009...|10.219151692386276|\n",
            "|11.279192121415758|[921.645839484382...|   34.343474366186|\n",
            "+------------------+--------------------+------------------+\n",
            "only showing top 20 rows\n",
            "\n"
          ]
        }
      ],
      "source": [
        "predictions.show()"
      ]
    },
    {
      "cell_type": "code",
      "execution_count": null,
      "metadata": {
        "id": "NZpZEfWNF03K"
      },
      "outputs": [],
      "source": [
        "sc.stop()"
      ]
    },
    {
      "cell_type": "code",
      "execution_count": null,
      "metadata": {
        "id": "7hhYSZboG22_"
      },
      "outputs": [],
      "source": []
    }
  ],
  "metadata": {
    "colab": {
      "provenance": []
    },
    "kernelspec": {
      "display_name": "Python 3",
      "language": "python",
      "name": "python3"
    },
    "language_info": {
      "codemirror_mode": {
        "name": "ipython",
        "version": 3
      },
      "file_extension": ".py",
      "mimetype": "text/x-python",
      "name": "python",
      "nbconvert_exporter": "python",
      "pygments_lexer": "ipython3",
      "version": "3.5.1"
    }
  },
  "nbformat": 4,
  "nbformat_minor": 0
}